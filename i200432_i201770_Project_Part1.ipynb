{
 "cells": [
  {
   "cell_type": "code",
   "execution_count": 9,
   "metadata": {},
   "outputs": [],
   "source": [
    "import math\n",
    "import copy\n",
    "import os\n",
    "import numpy as np\n",
    "import pandas as pd"
   ]
  },
  {
   "cell_type": "code",
   "execution_count": 16,
   "metadata": {},
   "outputs": [
    {
     "name": "stdout",
     "output_type": "stream",
     "text": [
      "                        region_hash  region_id\n",
      "0  90c5a34f06ac86aee0fd70e2adce7d8a          1\n",
      "1  f2c8c4bb99e6377d21de71275afd6cd2          2\n",
      "2  58c7a4888306d8ff3a641d1c0feccbe3          3\n",
      "3  b26a240205c852804ff8758628c0a86a          4\n",
      "4  4b9e4cf2fbdc8281b8a1f9f12b80ce4d          5\n"
     ]
    }
   ],
   "source": [
    "clusterMapData = pd.read_csv('./training_data/cluster_map/cluster_map', sep='\\t', names=['region_hash', 'region_id'])\n",
    "print(clusterMapData.head())"
   ]
  },
  {
   "cell_type": "code",
   "execution_count": 24,
   "metadata": {},
   "outputs": [
    {
     "name": "stdout",
     "output_type": "stream",
     "text": [
      "order_data_2016-01-01 read\n",
      "order_data_2016-01-02 read\n",
      "order_data_2016-01-03 read\n",
      "order_data_2016-01-04 read\n",
      "order_data_2016-01-05 read\n",
      "order_data_2016-01-06 read\n",
      "order_data_2016-01-07 read\n",
      "order_data_2016-01-08 read\n",
      "order_data_2016-01-09 read\n",
      "order_data_2016-01-10 read\n",
      "order_data_2016-01-11 read\n",
      "order_data_2016-01-12 read\n",
      "order_data_2016-01-13 read\n",
      "order_data_2016-01-14 read\n",
      "order_data_2016-01-15 read\n",
      "order_data_2016-01-16 read\n",
      "order_data_2016-01-17 read\n",
      "order_data_2016-01-18 read\n",
      "order_data_2016-01-19 read\n",
      "order_data_2016-01-20 read\n",
      "order_data_2016-01-21 read\n",
      "21 files read\n",
      "                           order_id                         driver_id  \\\n",
      "0  97ebd0c6680f7c0535dbfdead6e51b4b  dd65fa250fca2833a3a8c16d2cf0457c   \n",
      "1  92c3ac9251cc9b5aab90b114a1e363be  c077e0297639edcb1df6189e8cda2c3d   \n",
      "2  abeefc3e2aec952468e2fd42a1649640  86dbc1b68de435957c61b5a523854b69   \n",
      "3  cb31d0be64cda3cc66b46617bf49a05c  4fadfa6eeaa694742de036dddf02b0c4   \n",
      "4  139d492189ae5a933122c098f63252b3                               NaN   \n",
      "\n",
      "                       passenger_id                 start_region_hash  \\\n",
      "0  ed180d7daf639d936f1aeae4f7fb482f  4725c39a5e5f4c188d382da3910b3f3f   \n",
      "1  191a180f0a262aff3267775c4fac8972  82cc4851f9e4faa4e54309f8bb73fd7c   \n",
      "2  7029e813bb3de8cc73a8615e2785070c  fff4e8465d1e12621bc361276b6217cf   \n",
      "3  21dc133ac68e4c07803d1c2f48988a83  4b7f6f4e2bf237b6cc58f57142bea5c0   \n",
      "4  26963cc76da2d8450d8f23fc357db987  fc34648599753c9e74ab238e9a4a07ad   \n",
      "\n",
      "                   dest_region_hash  price                 time  \n",
      "0  3e12208dd0be281c92a6ab57d9a6fb32   24.0  2016-01-01 13:37:23  \n",
      "1  b05379ac3f9b7d99370d443cfd5dcc28    2.0  2016-01-01 09:47:54  \n",
      "2  fff4e8465d1e12621bc361276b6217cf    9.0  2016-01-01 18:24:02  \n",
      "3  4b7f6f4e2bf237b6cc58f57142bea5c0   11.0  2016-01-01 22:13:27  \n",
      "4  87285a66236346350541b8815c5fae94    4.0  2016-01-01 17:00:06  \n"
     ]
    }
   ],
   "source": [
    "orderDataPath = './training_data/order_data/'\n",
    "\n",
    "filesToExplore = []\n",
    "for file in os.listdir(orderDataPath):\n",
    "    if file.startswith('order_data'):\n",
    "        filesToExplore.append(file)\n",
    "        print(f\"{file} read\")\n",
    "    else:\n",
    "        continue\n",
    "\n",
    "print(f\"{len(filesToExplore)} files read\")\n",
    "dataTypes = {'order_id':'str', 'driver_id':'str', 'passenger_id':'str', 'start_region_hash':'str', 'dest_region_hash':'str', 'price':'double', 'time':'str'}\n",
    "orderData = []\n",
    "for files in filesToExplore:\n",
    "    fileRead = pd.read_csv(orderDataPath + files, sep='\\t', names=['order_id', 'driver_id', 'passenger_id', 'start_region_hash', 'dest_region_hash', 'price', 'time'],dtype=dataTypes)\n",
    "    orderData.append(fileRead)\n",
    "\n",
    "orderData = pd.concat(orderData, ignore_index=True)\n",
    "\n",
    "print(orderData.head())"
   ]
  }
 ],
 "metadata": {
  "kernelspec": {
   "display_name": "base",
   "language": "python",
   "name": "python3"
  },
  "language_info": {
   "codemirror_mode": {
    "name": "ipython",
    "version": 3
   },
   "file_extension": ".py",
   "mimetype": "text/x-python",
   "name": "python",
   "nbconvert_exporter": "python",
   "pygments_lexer": "ipython3",
   "version": "3.9.16"
  },
  "orig_nbformat": 4
 },
 "nbformat": 4,
 "nbformat_minor": 2
}
