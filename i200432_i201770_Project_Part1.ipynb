{
 "cells": [
  {
   "cell_type": "code",
   "execution_count": 2,
   "metadata": {},
   "outputs": [],
   "source": [
    "#This is dev branch\n",
    "import math\n",
    "import copy\n",
    "import os\n",
    "import numpy as np\n",
    "import pandas as pd"
   ]
  },
  {
   "cell_type": "code",
   "execution_count": 2,
   "metadata": {},
   "outputs": [],
   "source": [
    "def readMultipleData(path,fileNamePrefix,headerNames,dataTypes):\n",
    "    filesToExplore = []\n",
    "    for file in os.listdir(path):\n",
    "        if file.startswith(fileNamePrefix):\n",
    "            filesToExplore.append(file)\n",
    "            # print(f\"{file} read\")\n",
    "        else:\n",
    "            continue\n",
    "\n",
    "    print(f\"{len(filesToExplore)} files read\")\n",
    "    \n",
    "    readData = []\n",
    "    for files in filesToExplore:\n",
    "        fileRead = pd.read_csv(path + files, sep='\\t', names=headerNames,dtype=dataTypes)\n",
    "        readData.append(fileRead)\n",
    "\n",
    "    readData = pd.concat(readData, ignore_index=True)\n",
    "    return readData"
   ]
  },
  {
   "cell_type": "code",
   "execution_count": 3,
   "metadata": {},
   "outputs": [
    {
     "name": "stdout",
     "output_type": "stream",
     "text": [
      "                        region_hash  region_id\n",
      "0  90c5a34f06ac86aee0fd70e2adce7d8a          1\n",
      "1  f2c8c4bb99e6377d21de71275afd6cd2          2\n",
      "2  58c7a4888306d8ff3a641d1c0feccbe3          3\n",
      "3  b26a240205c852804ff8758628c0a86a          4\n",
      "4  4b9e4cf2fbdc8281b8a1f9f12b80ce4d          5\n"
     ]
    }
   ],
   "source": [
    "# now region Data\n",
    "regionData = pd.read_csv('./training_data/cluster_map/cluster_map', sep='\\t', names=['region_hash', 'region_id'],dtype={'region_hash': 'str', 'region_id': 'int'})\n",
    "print(regionData.head())"
   ]
  },
  {
   "cell_type": "code",
   "execution_count": 4,
   "metadata": {},
   "outputs": [
    {
     "name": "stdout",
     "output_type": "stream",
     "text": [
      "order_data_2016-01-01 read\n",
      "order_data_2016-01-02 read\n",
      "order_data_2016-01-03 read\n",
      "order_data_2016-01-04 read\n",
      "order_data_2016-01-05 read\n",
      "order_data_2016-01-06 read\n",
      "order_data_2016-01-07 read\n",
      "order_data_2016-01-08 read\n",
      "order_data_2016-01-09 read\n",
      "order_data_2016-01-10 read\n",
      "order_data_2016-01-11 read\n",
      "order_data_2016-01-12 read\n",
      "order_data_2016-01-13 read\n",
      "order_data_2016-01-14 read\n",
      "order_data_2016-01-15 read\n",
      "order_data_2016-01-16 read\n",
      "order_data_2016-01-17 read\n",
      "order_data_2016-01-18 read\n",
      "order_data_2016-01-19 read\n",
      "order_data_2016-01-20 read\n",
      "order_data_2016-01-21 read\n",
      "21 files read\n",
      "printing order data\n",
      "                           order_id                         driver_id  \\\n",
      "0  97ebd0c6680f7c0535dbfdead6e51b4b  dd65fa250fca2833a3a8c16d2cf0457c   \n",
      "1  92c3ac9251cc9b5aab90b114a1e363be  c077e0297639edcb1df6189e8cda2c3d   \n",
      "2  abeefc3e2aec952468e2fd42a1649640  86dbc1b68de435957c61b5a523854b69   \n",
      "3  cb31d0be64cda3cc66b46617bf49a05c  4fadfa6eeaa694742de036dddf02b0c4   \n",
      "4  139d492189ae5a933122c098f63252b3                               NaN   \n",
      "\n",
      "                       passenger_id                 start_region_hash  \\\n",
      "0  ed180d7daf639d936f1aeae4f7fb482f  4725c39a5e5f4c188d382da3910b3f3f   \n",
      "1  191a180f0a262aff3267775c4fac8972  82cc4851f9e4faa4e54309f8bb73fd7c   \n",
      "2  7029e813bb3de8cc73a8615e2785070c  fff4e8465d1e12621bc361276b6217cf   \n",
      "3  21dc133ac68e4c07803d1c2f48988a83  4b7f6f4e2bf237b6cc58f57142bea5c0   \n",
      "4  26963cc76da2d8450d8f23fc357db987  fc34648599753c9e74ab238e9a4a07ad   \n",
      "\n",
      "                   dest_region_hash  price                 time  \n",
      "0  3e12208dd0be281c92a6ab57d9a6fb32   24.0  2016-01-01 13:37:23  \n",
      "1  b05379ac3f9b7d99370d443cfd5dcc28    2.0  2016-01-01 09:47:54  \n",
      "2  fff4e8465d1e12621bc361276b6217cf    9.0  2016-01-01 18:24:02  \n",
      "3  4b7f6f4e2bf237b6cc58f57142bea5c0   11.0  2016-01-01 22:13:27  \n",
      "4  87285a66236346350541b8815c5fae94    4.0  2016-01-01 17:00:06  \n",
      "weather_data_2016-01-01 read\n",
      "weather_data_2016-01-02 read\n",
      "weather_data_2016-01-03 read\n",
      "weather_data_2016-01-04 read\n",
      "weather_data_2016-01-05 read\n",
      "weather_data_2016-01-06 read\n",
      "weather_data_2016-01-07 read\n",
      "weather_data_2016-01-08 read\n",
      "weather_data_2016-01-09 read\n",
      "weather_data_2016-01-10 read\n",
      "weather_data_2016-01-11 read\n",
      "weather_data_2016-01-12 read\n",
      "weather_data_2016-01-13 read\n",
      "weather_data_2016-01-14 read\n",
      "weather_data_2016-01-15 read\n",
      "weather_data_2016-01-16 read\n",
      "weather_data_2016-01-17 read\n",
      "weather_data_2016-01-18 read\n",
      "weather_data_2016-01-19 read\n",
      "weather_data_2016-01-20 read\n",
      "weather_data_2016-01-21 read\n",
      "21 files read\n",
      "printing weather data\n",
      "                  time  weather  temperature  PM2.5\n",
      "0  2016-01-01 00:00:28        1          4.0  177.0\n",
      "1  2016-01-01 00:05:24        1          3.0  177.0\n",
      "2  2016-01-01 00:10:08        1          3.0  177.0\n",
      "3  2016-01-01 00:15:27        1          3.0  177.0\n",
      "4  2016-01-01 00:20:06        1          3.0  177.0\n"
     ]
    }
   ],
   "source": [
    "# read order data\n",
    "dataTypes = {'order_id':'str', 'driver_id':'str', 'passenger_id':'str', 'start_region_hash':'str', 'dest_region_hash':'str', 'price':'double', 'time':'str'}\n",
    "orderDataPath = './training_data/order_data/'\n",
    "orderData = readMultipleData(orderDataPath,'order', ['order_id', 'driver_id', 'passenger_id', 'start_region_hash', 'dest_region_hash', 'price', 'time'], dataTypes)\n",
    "print(\"printing order data\")\n",
    "print(orderData.head())\n",
    "\n",
    "# read weather data\n",
    "dataTypes={'time':'str', 'weather':'int', 'temperature':'double', 'PM2.5':'double'}\n",
    "weatherDataPath = './training_data/weather_data/'\n",
    "weatherData = readMultipleData(weatherDataPath,'weather', ['time', 'weather', 'temperature', 'PM2.5'], dataTypes)\n",
    "print(\"printing weather data\")\n",
    "print(weatherData.head())"
   ]
  },
  {
   "cell_type": "code",
   "execution_count": 7,
   "metadata": {},
   "outputs": [
    {
     "name": "stdout",
     "output_type": "stream",
     "text": [
      "printing poi data\n",
      "                        region_hash  \\\n",
      "0  74c1c25f4b283fa74a5514307b0d0278   \n",
      "1  08f5b445ec6b29deba62e6fd8b0325a6   \n",
      "2  4b7f6f4e2bf237b6cc58f57142bea5c0   \n",
      "3  a814069db8d32f0fa6e188f41059c6e1   \n",
      "4  8316146a6f78cc6d9f113f0390859417   \n",
      "\n",
      "                                           poi_class  \n",
      "0  [1#11:2241, 1#10:249, 24:1245, 25:3652, 20:334...  \n",
      "1  [20#7:249, 20#5:83, 2#7:166, 20#2:747, 20#1:99...  \n",
      "2  [4#16:249, 24:913, 25:332, 20:4316, 22:415, 4:...  \n",
      "3  [1#11:498, 24:332, 25:581, 20:5810, 22:2407, 4...  \n",
      "4  [20#7:581, 20#5:83, 20#4:415, 20#2:166, 20#1:6...  \n",
      "Printing poi data line 1\n",
      "region_hash: 74c1c25f4b283fa74a5514307b0d0278 poi_class: 1#11:2241\n"
     ]
    }
   ],
   "source": [
    "# read POI Data\n",
    "poiDataStr = {\n",
    "    'region_hash':[],\n",
    "    'poi_class':[]\n",
    "}\n",
    "with open('./training_data/poi_data/poi_data','r') as fileToRead:\n",
    "    for line in fileToRead:\n",
    "        line = line.strip()\n",
    "        columns = line.split('\\t')\n",
    "        poiDataStr['region_hash'].append(columns[0])\n",
    "        remData = columns[1:]\n",
    "        poiDataStr['poi_class'].append(remData)\n",
    "        \n",
    "poiData = pd.DataFrame(poiDataStr,columns=['region_hash','poi_class'])\n",
    "print(\"printing poi data\")\n",
    "print(poiData.head())\n",
    "print(\"Printing poi data line 1\")\n",
    "print(f\"region_hash: {poiData['region_hash'][0]} poi_class: {poiData['poi_class'][0]}\")"
   ]
  },
  {
   "cell_type": "code",
   "execution_count": null,
   "metadata": {},
   "outputs": [],
   "source": []
  }
 ],
 "metadata": {
  "kernelspec": {
   "display_name": "base",
   "language": "python",
   "name": "python3"
  },
  "language_info": {
   "codemirror_mode": {
    "name": "ipython",
    "version": 3
   },
   "file_extension": ".py",
   "mimetype": "text/x-python",
   "name": "python",
   "nbconvert_exporter": "python",
   "pygments_lexer": "ipython3",
   "version": "3.9.16"
  },
  "orig_nbformat": 4
 },
 "nbformat": 4,
 "nbformat_minor": 2
}
