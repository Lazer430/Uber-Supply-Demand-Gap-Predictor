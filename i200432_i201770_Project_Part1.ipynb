{
 "cells": [
  {
   "cell_type": "code",
   "execution_count": 1,
   "metadata": {},
   "outputs": [],
   "source": [
    "# !pip install numpy\n",
    "# !pip install pandas\n",
    "# !pip install tqdm\n",
    "# !pip install sklearn\n",
    "# !pip install matplotlib"
   ]
  },
  {
   "cell_type": "code",
   "execution_count": 1,
   "metadata": {},
   "outputs": [],
   "source": [
    "#This is dev branch\n",
    "import datetime\n",
    "import math\n",
    "import os\n",
    "import numpy as np\n",
    "import pandas as pd\n",
    "from tqdm import tqdm\n",
    "import multiprocessing as mp\n",
    "from sklearn.ensemble import RandomForestRegressor\n",
    "from sklearn.metrics import mean_squared_error\n",
    "from sklearn.model_selection import train_test_split\n",
    "from sklearn.tree import DecisionTreeRegressor\n",
    "from sklearn.linear_model import LinearRegression\n",
    "import matplotlib.pyplot as plt\n",
    "NUM_TIME_SLOTS = 144\n",
    "NUM_DAYS_IN_DATA = 0"
   ]
  },
  {
   "cell_type": "code",
   "execution_count": 2,
   "metadata": {},
   "outputs": [
    {
     "name": "stdout",
     "output_type": "stream",
     "text": [
      "<class 'str'>\n"
     ]
    }
   ],
   "source": [
    "# 24 hours is divided into 144 slots where each slot is 10 mins long\n",
    "def calculateTimeSlot(time,printValue=True):\n",
    "    global NUM_TIME_SLOTS\n",
    "    dateTime = datetime.datetime.strptime(time, '%Y-%m-%d %H:%M:%S')\n",
    "    timePart = dateTime.time()\n",
    "    timeInMinutes = (timePart.hour * 60) + timePart.minute + (timePart.second/60) + 1\n",
    "    timeSlot = timeInMinutes/10\n",
    "    roundedTimeSlot = math.ceil(timeSlot)\n",
    "    if roundedTimeSlot > NUM_TIME_SLOTS:\n",
    "        roundedTimeSlot -= 1\n",
    "    if printValue==True:\n",
    "        print(f\"time: {time} timeInMinutes: {timeInMinutes} timeSlot: {roundedTimeSlot}\")\n",
    "    return int(roundedTimeSlot)\n",
    "\n",
    "def extractDayOfWeek(time):\n",
    "    d = datetime.datetime.strptime(time, '%Y-%m-%d %H:%M:%S')\n",
    "    return d.weekday()\n",
    "\n",
    "def extractDate(time):\n",
    "    d = datetime.datetime.strptime(time, '%Y-%m-%d %H:%M:%S')\n",
    "    return str(d.date())\n",
    "\n",
    "print(type(extractDate('2019-01-01 00:00:00')))"
   ]
  },
  {
   "cell_type": "code",
   "execution_count": 3,
   "metadata": {},
   "outputs": [],
   "source": [
    "def extractNumberOfPOI(poiArray):\n",
    "    poiCount = 0\n",
    "    for poiEntry in poiArray:\n",
    "        poiEntry = poiEntry + ':'\n",
    "        divisions = poiEntry.split(\":\")\n",
    "        poiCount += int(divisions[1])\n",
    "    return poiCount\n",
    "        "
   ]
  },
  {
   "cell_type": "code",
   "execution_count": 4,
   "metadata": {},
   "outputs": [],
   "source": [
    "def readMultipleData(path,fileNamePrefix,headerNames,dataTypes,delimiter2=\"\\t\"):\n",
    "    global NUM_DAYS_IN_DATA\n",
    "    filesToExplore = []\n",
    "    for file in os.listdir(path):\n",
    "        if file.startswith(fileNamePrefix):\n",
    "            filesToExplore.append(file)\n",
    "            # print(f\"{file} read\")\n",
    "        else:\n",
    "            continue\n",
    "\n",
    "    print(f\"{len(filesToExplore)} files read\")\n",
    "    if fileNamePrefix == 'order':\n",
    "        NUM_DAYS_IN_DATA = len(filesToExplore)\n",
    "    \n",
    "    readData = []\n",
    "    for files in filesToExplore:\n",
    "        fileRead = pd.read_csv(path + files, sep=delimiter2, names=headerNames,dtype=dataTypes)\n",
    "        readData.append(fileRead)\n",
    "\n",
    "    readData = pd.concat(readData, ignore_index=True)\n",
    "    return readData"
   ]
  },
  {
   "cell_type": "code",
   "execution_count": 5,
   "metadata": {},
   "outputs": [],
   "source": [
    "def extractTime(time):\n",
    "    time = datetime.datetime.strptime(time, '%Y-%m-%d %H:%M:%S')\n",
    "    timePart = time.time()\n",
    "    return str(timePart)"
   ]
  },
  {
   "cell_type": "code",
   "execution_count": 6,
   "metadata": {},
   "outputs": [],
   "source": [
    "# now region Data\n",
    "regionData = pd.read_csv('./training_data/cluster_map/cluster_map', sep='\\t', names=['region_hash', 'region_id'],dtype={'region_hash': 'str', 'region_id': 'int'})\n",
    "# print(regionData.head())\n",
    "# regionData.to_csv('regionData.csv',index=False)"
   ]
  },
  {
   "cell_type": "code",
   "execution_count": 7,
   "metadata": {},
   "outputs": [],
   "source": [
    "def getRegionId(regionHash):\n",
    "    for _, row in regionData.iterrows():\n",
    "        if row['region_hash'] == regionHash:\n",
    "            return row['region_id']"
   ]
  },
  {
   "cell_type": "code",
   "execution_count": 8,
   "metadata": {},
   "outputs": [
    {
     "name": "stdout",
     "output_type": "stream",
     "text": [
      "21 files read\n",
      "printing order data\n"
     ]
    }
   ],
   "source": [
    "# read order data\n",
    "dataTypes = {'order_id':'str', 'driver_id':'str', 'passenger_id':'str', 'start_region_hash':'str', 'dest_region_hash':'str', 'price':'double', 'time':'str'}\n",
    "orderDataPath = './training_data/order_data/'\n",
    "orderData = readMultipleData(orderDataPath,'order', ['order_id', 'driver_id', 'passenger_id', 'start_region_hash', 'dest_region_hash', 'price', 'time'], dataTypes)\n",
    "print(\"printing order data\")\n",
    "# print(orderData.head())\n"
   ]
  },
  {
   "cell_type": "code",
   "execution_count": 9,
   "metadata": {},
   "outputs": [
    {
     "name": "stdout",
     "output_type": "stream",
     "text": [
      "21 files read\n",
      "printing weather data\n"
     ]
    }
   ],
   "source": [
    "# read weather data\n",
    "dataTypes={'time':'str', 'weather':'int', 'temperature':'double', 'PM2.5':'double'}\n",
    "weatherDataPath = './training_data/weather_data/'\n",
    "weatherData = readMultipleData(weatherDataPath,'weather', ['time', 'weather', 'temperature', 'PM2.5'], dataTypes)\n",
    "print(\"printing weather data\")\n",
    "# print(weatherData.head())"
   ]
  },
  {
   "cell_type": "code",
   "execution_count": 10,
   "metadata": {},
   "outputs": [
    {
     "name": "stdout",
     "output_type": "stream",
     "text": [
      "   weather  temperature  PM2.5  time_slot        date\n",
      "0        1          4.0  177.0          1  2016-01-01\n",
      "1        1          3.0  177.0          1  2016-01-01\n",
      "2        1          3.0  177.0          2  2016-01-01\n",
      "3        1          3.0  177.0          2  2016-01-01\n",
      "4        1          3.0  177.0          3  2016-01-01\n"
     ]
    }
   ],
   "source": [
    "weatherData['time_slot'] = weatherData['time'].apply(calculateTimeSlot,printValue=False)\n",
    "weatherData['date'] = weatherData['time'].apply(extractDate)\n",
    "# weatherData['day_of_week'] = weatherData['time'].apply(extractDayOfWeek)\n",
    "weatherData = weatherData.drop(['time'], axis=1)\n",
    "print(weatherData.head())"
   ]
  },
  {
   "cell_type": "code",
   "execution_count": 11,
   "metadata": {},
   "outputs": [
    {
     "name": "stdout",
     "output_type": "stream",
     "text": [
      "Step 1 done\n",
      "Step 2 done\n",
      "Step 3 done\n",
      "Step 4 done\n",
      "Step 5 done\n",
      "Step 6 done\n",
      "                      region_hash_x  dest_region_id   \n",
      "0  90c5a34f06ac86aee0fd70e2adce7d8a               1  \\\n",
      "1  90c5a34f06ac86aee0fd70e2adce7d8a               1   \n",
      "2  90c5a34f06ac86aee0fd70e2adce7d8a               1   \n",
      "3  90c5a34f06ac86aee0fd70e2adce7d8a               1   \n",
      "4  90c5a34f06ac86aee0fd70e2adce7d8a               1   \n",
      "\n",
      "                      region_hash_y  start_region_id   \n",
      "0  90c5a34f06ac86aee0fd70e2adce7d8a                1  \\\n",
      "1  90c5a34f06ac86aee0fd70e2adce7d8a                1   \n",
      "2  90c5a34f06ac86aee0fd70e2adce7d8a                1   \n",
      "3  90c5a34f06ac86aee0fd70e2adce7d8a                1   \n",
      "4  90c5a34f06ac86aee0fd70e2adce7d8a                1   \n",
      "\n",
      "                           order_id                         driver_id   \n",
      "0  1654babc363bc6d0f5d01fc0bafedc1a  cc26812d679c9e55a6bf63eed315e989  \\\n",
      "1  ce86a6ae5eee7a2ea954323b6c01510b  360478560b1fd4b3eb757074c91ee709   \n",
      "2  b5e816c08e44565c7ed67a6f6e366708  0359fc335d238c6206703d1d7e3620c8   \n",
      "3  25ed10b13aaa36071deecab3aa374be3  c03944aff7444c27fd7b04cdd3e80af5   \n",
      "4  47875ef41f97647fd5dc6aaa5e0542d2  c4e25642a283fa59f7d6513f0c839c47   \n",
      "\n",
      "                  time  time_slot  day_of_week        date  \n",
      "0  2016-01-01 20:49:15        126            4  2016-01-01  \n",
      "1  2016-01-01 21:00:21        127            4  2016-01-01  \n",
      "2  2016-01-01 19:25:32        117            4  2016-01-01  \n",
      "3  2016-01-01 20:35:36        124            4  2016-01-01  \n",
      "4  2016-01-01 22:21:47        135            4  2016-01-01  \n"
     ]
    }
   ],
   "source": [
    "orderData = pd.merge(regionData,orderData, how='inner', right_on='start_region_hash', left_on='region_hash')\n",
    "print(\"Step 1 done\")\n",
    "orderData = orderData.rename(columns={'region_id': 'start_region_id'})\n",
    "orderData = pd.merge(regionData,orderData, how='inner', right_on='dest_region_hash', left_on='region_hash')\n",
    "orderData = orderData.rename(columns={'region_id': 'dest_region_id'})\n",
    "print(\"Step 2 done\")\n",
    "orderData['time_slot'] = orderData['time'].apply(calculateTimeSlot,printValue=False)\n",
    "print(\"Step 3 done\")\n",
    "orderData['day_of_week'] = orderData['time'].apply(extractDayOfWeek)\n",
    "print(\"Step 4 done\")\n",
    "orderData['date'] = orderData['time'].apply(extractDate)\n",
    "print(\"Step 5 done\")\n",
    "orderData = orderData.drop(['passenger_id', 'dest_region_hash','start_region_hash','price'], axis=1)\n",
    "print(\"Step 6 done\")\n",
    "# orderData['time_part'] = orderData['time'].apply(extractTime)\n",
    "print(orderData.head())\n",
    "# regionData=None"
   ]
  },
  {
   "cell_type": "code",
   "execution_count": 12,
   "metadata": {},
   "outputs": [
    {
     "name": "stdout",
     "output_type": "stream",
     "text": [
      "                      region_hash_x  dest_region_id   \n",
      "0  90c5a34f06ac86aee0fd70e2adce7d8a               1  \\\n",
      "1  90c5a34f06ac86aee0fd70e2adce7d8a               1   \n",
      "2  90c5a34f06ac86aee0fd70e2adce7d8a               1   \n",
      "3  90c5a34f06ac86aee0fd70e2adce7d8a               1   \n",
      "4  90c5a34f06ac86aee0fd70e2adce7d8a               1   \n",
      "\n",
      "                      region_hash_y  start_region_id   \n",
      "0  90c5a34f06ac86aee0fd70e2adce7d8a                1  \\\n",
      "1  90c5a34f06ac86aee0fd70e2adce7d8a                1   \n",
      "2  90c5a34f06ac86aee0fd70e2adce7d8a                1   \n",
      "3  90c5a34f06ac86aee0fd70e2adce7d8a                1   \n",
      "4  90c5a34f06ac86aee0fd70e2adce7d8a                1   \n",
      "\n",
      "                           order_id                         driver_id   \n",
      "0  1654babc363bc6d0f5d01fc0bafedc1a  cc26812d679c9e55a6bf63eed315e989  \\\n",
      "1  ce86a6ae5eee7a2ea954323b6c01510b  360478560b1fd4b3eb757074c91ee709   \n",
      "2  b5e816c08e44565c7ed67a6f6e366708  0359fc335d238c6206703d1d7e3620c8   \n",
      "3  25ed10b13aaa36071deecab3aa374be3  c03944aff7444c27fd7b04cdd3e80af5   \n",
      "4  47875ef41f97647fd5dc6aaa5e0542d2  c4e25642a283fa59f7d6513f0c839c47   \n",
      "\n",
      "                  time  time_slot  day_of_week        date  \n",
      "0  2016-01-01 20:49:15        126            4  2016-01-01  \n",
      "1  2016-01-01 21:00:21        127            4  2016-01-01  \n",
      "2  2016-01-01 19:25:32        117            4  2016-01-01  \n",
      "3  2016-01-01 20:35:36        124            4  2016-01-01  \n",
      "4  2016-01-01 22:21:47        135            4  2016-01-01  \n",
      "(7190454, 10)\n"
     ]
    }
   ],
   "source": [
    "# orderData = pd.read_csv('orderData.csv')\n",
    "print(orderData.head())\n",
    "print(orderData.shape)"
   ]
  },
  {
   "cell_type": "code",
   "execution_count": 13,
   "metadata": {},
   "outputs": [
    {
     "name": "stdout",
     "output_type": "stream",
     "text": [
      "   region_id  poi_count\n",
      "0          1     653376\n",
      "1          2     343537\n",
      "2          3      31125\n",
      "3          4     187829\n",
      "4          5      27888\n"
     ]
    }
   ],
   "source": [
    "# read POI Data\n",
    "poiDataStr = {\n",
    "    'region_hash':[],\n",
    "    'poi_class':[]\n",
    "}\n",
    "with open('./training_data/poi_data/poi_data','r') as fileToRead:\n",
    "    for line in fileToRead:\n",
    "        line = line.strip()\n",
    "        columns = line.split('\\t')\n",
    "        poiDataStr['region_hash'].append(columns[0])\n",
    "        remData = columns[1:]\n",
    "        poiDataStr['poi_class'].append(remData)\n",
    "        \n",
    "poiData = pd.DataFrame(poiDataStr,columns=['region_hash','poi_class'])\n",
    "poiData['poi_count'] = poiData['poi_class'].apply(extractNumberOfPOI)\n",
    "poiData = pd.merge(regionData,poiData, how='inner', on='region_hash')\n",
    "poiData = poiData.drop(['region_hash'], axis=1)\n",
    "poiData = poiData.drop(['poi_class'], axis=1)\n",
    "print(poiData.head())"
   ]
  },
  {
   "cell_type": "code",
   "execution_count": null,
   "metadata": {},
   "outputs": [],
   "source": []
  },
  {
   "cell_type": "code",
   "execution_count": 14,
   "metadata": {},
   "outputs": [
    {
     "name": "stdout",
     "output_type": "stream",
     "text": [
      "                      region_hash_x  dest_region_id   \n",
      "0  90c5a34f06ac86aee0fd70e2adce7d8a               1  \\\n",
      "1  90c5a34f06ac86aee0fd70e2adce7d8a               1   \n",
      "2  90c5a34f06ac86aee0fd70e2adce7d8a               1   \n",
      "3  90c5a34f06ac86aee0fd70e2adce7d8a               1   \n",
      "4  90c5a34f06ac86aee0fd70e2adce7d8a               1   \n",
      "\n",
      "                      region_hash_y  start_region_id   \n",
      "0  90c5a34f06ac86aee0fd70e2adce7d8a                1  \\\n",
      "1  90c5a34f06ac86aee0fd70e2adce7d8a                1   \n",
      "2  90c5a34f06ac86aee0fd70e2adce7d8a                1   \n",
      "3  90c5a34f06ac86aee0fd70e2adce7d8a                1   \n",
      "4  90c5a34f06ac86aee0fd70e2adce7d8a                1   \n",
      "\n",
      "                           order_id                         driver_id   \n",
      "0  1654babc363bc6d0f5d01fc0bafedc1a  cc26812d679c9e55a6bf63eed315e989  \\\n",
      "1  ce86a6ae5eee7a2ea954323b6c01510b  360478560b1fd4b3eb757074c91ee709   \n",
      "2  b5e816c08e44565c7ed67a6f6e366708  0359fc335d238c6206703d1d7e3620c8   \n",
      "3  25ed10b13aaa36071deecab3aa374be3  c03944aff7444c27fd7b04cdd3e80af5   \n",
      "4  47875ef41f97647fd5dc6aaa5e0542d2  c4e25642a283fa59f7d6513f0c839c47   \n",
      "\n",
      "                  time  time_slot  day_of_week        date  requests_x   \n",
      "0  2016-01-01 20:49:15        126            4  2016-01-01           1  \\\n",
      "1  2016-01-01 21:00:21        127            4  2016-01-01           1   \n",
      "2  2016-01-01 19:25:32        117            4  2016-01-01           1   \n",
      "3  2016-01-01 20:35:36        124            4  2016-01-01           1   \n",
      "4  2016-01-01 22:21:47        135            4  2016-01-01           1   \n",
      "\n",
      "   requests_y  \n",
      "0         384  \n",
      "1         430  \n",
      "2         413  \n",
      "3         397  \n",
      "4         296  \n"
     ]
    }
   ],
   "source": [
    "# print(mergedDataCSV)\n",
    "orderData['requests'] = 1\n",
    "# print(orderData.head())\n",
    "groupedMergedData = orderData.groupby(['start_region_id','time_slot','day_of_week','dest_region_id'])['requests'].agg('sum').reset_index()\n",
    "# groupedMergedData = groupedMergedData.drop(['date','region_hash','order_id','driver_id','time'], axis=1)\n",
    "orderData = pd.merge(orderData,groupedMergedData, how='left' , on=['start_region_id','time_slot','day_of_week','dest_region_id'])\n",
    "print(orderData.head())"
   ]
  },
  {
   "cell_type": "code",
   "execution_count": 15,
   "metadata": {},
   "outputs": [
    {
     "name": "stdout",
     "output_type": "stream",
     "text": [
      "         dest_region_id                       region_hash  start_region_id   \n",
      "0                     1  90c5a34f06ac86aee0fd70e2adce7d8a                1  \\\n",
      "1                     1  90c5a34f06ac86aee0fd70e2adce7d8a                1   \n",
      "2                     1  90c5a34f06ac86aee0fd70e2adce7d8a                1   \n",
      "3                     1  90c5a34f06ac86aee0fd70e2adce7d8a                1   \n",
      "4                     1  90c5a34f06ac86aee0fd70e2adce7d8a                1   \n",
      "...                 ...                               ...              ...   \n",
      "7190449              66  1ecbb52d73c522f184a6fc53128b1ea1               66   \n",
      "7190450              66  1ecbb52d73c522f184a6fc53128b1ea1               66   \n",
      "7190451              66  1ecbb52d73c522f184a6fc53128b1ea1               66   \n",
      "7190452              66  1ecbb52d73c522f184a6fc53128b1ea1               66   \n",
      "7190453              66  1ecbb52d73c522f184a6fc53128b1ea1               66   \n",
      "\n",
      "                                 order_id                         driver_id   \n",
      "0        1654babc363bc6d0f5d01fc0bafedc1a  cc26812d679c9e55a6bf63eed315e989  \\\n",
      "1        ce86a6ae5eee7a2ea954323b6c01510b  360478560b1fd4b3eb757074c91ee709   \n",
      "2        b5e816c08e44565c7ed67a6f6e366708  0359fc335d238c6206703d1d7e3620c8   \n",
      "3        25ed10b13aaa36071deecab3aa374be3  c03944aff7444c27fd7b04cdd3e80af5   \n",
      "4        47875ef41f97647fd5dc6aaa5e0542d2  c4e25642a283fa59f7d6513f0c839c47   \n",
      "...                                   ...                               ...   \n",
      "7190449  c11f442b127f9bb0a71801a29eefca3d  204e8bb73c87854c7a6bae57e8e6b85e   \n",
      "7190450  4e35ff62b4fd0e848f6ef873a8f570ba  970160a3782472acbce24225cb9aa50d   \n",
      "7190451  076632af8ab65e97c9da5a96809672df  e85e82d4832915a0b8eaa160d2a5fbb6   \n",
      "7190452  7204a2b23b4ef218a4c5faed12e1346a  1f375b3c3980407ee6bca0ffa5302ef5   \n",
      "7190453  7102153f1247804e9fc2293a7284d523  052e4bb0838b2ae996d6be084ccdbc88   \n",
      "\n",
      "                        time  time_slot  day_of_week        date  requests  \n",
      "0        2016-01-01 20:49:15        126            4  2016-01-01       384  \n",
      "1        2016-01-01 21:00:21        127            4  2016-01-01       430  \n",
      "2        2016-01-01 19:25:32        117            4  2016-01-01       413  \n",
      "3        2016-01-01 20:35:36        124            4  2016-01-01       397  \n",
      "4        2016-01-01 22:21:47        135            4  2016-01-01       296  \n",
      "...                      ...        ...          ...         ...       ...  \n",
      "7190449  2016-01-21 10:48:27         65            3  2016-01-21        19  \n",
      "7190450  2016-01-21 11:32:32         70            3  2016-01-21        10  \n",
      "7190451  2016-01-21 16:17:32         98            3  2016-01-21        12  \n",
      "7190452  2016-01-21 20:38:41        124            3  2016-01-21        13  \n",
      "7190453  2016-01-21 21:41:23        131            3  2016-01-21        12  \n",
      "\n",
      "[7190454 rows x 10 columns]\n"
     ]
    }
   ],
   "source": [
    "orderData = orderData.drop([\"requests_x\"], axis=1)\n",
    "orderData = orderData.drop([\"region_hash_x\"], axis=1)\n",
    "orderData = orderData.rename(columns={\"region_hash_y\": \"region_hash\"})\n",
    "orderData = orderData.rename(columns={\"requests_y\": \"requests\"})\n",
    "print(orderData)"
   ]
  },
  {
   "cell_type": "code",
   "execution_count": 16,
   "metadata": {},
   "outputs": [
    {
     "name": "stdout",
     "output_type": "stream",
     "text": [
      "         dest_region_id                       region_hash  start_region_id   \n",
      "0                     1  90c5a34f06ac86aee0fd70e2adce7d8a                1  \\\n",
      "1                     1  90c5a34f06ac86aee0fd70e2adce7d8a                1   \n",
      "2                     1  90c5a34f06ac86aee0fd70e2adce7d8a                1   \n",
      "3                     1  90c5a34f06ac86aee0fd70e2adce7d8a                1   \n",
      "4                     1  90c5a34f06ac86aee0fd70e2adce7d8a                1   \n",
      "...                 ...                               ...              ...   \n",
      "7190449              66  1ecbb52d73c522f184a6fc53128b1ea1               66   \n",
      "7190450              66  1ecbb52d73c522f184a6fc53128b1ea1               66   \n",
      "7190451              66  1ecbb52d73c522f184a6fc53128b1ea1               66   \n",
      "7190452              66  1ecbb52d73c522f184a6fc53128b1ea1               66   \n",
      "7190453              66  1ecbb52d73c522f184a6fc53128b1ea1               66   \n",
      "\n",
      "                                 order_id                         driver_id   \n",
      "0        1654babc363bc6d0f5d01fc0bafedc1a  cc26812d679c9e55a6bf63eed315e989  \\\n",
      "1        ce86a6ae5eee7a2ea954323b6c01510b  360478560b1fd4b3eb757074c91ee709   \n",
      "2        b5e816c08e44565c7ed67a6f6e366708  0359fc335d238c6206703d1d7e3620c8   \n",
      "3        25ed10b13aaa36071deecab3aa374be3  c03944aff7444c27fd7b04cdd3e80af5   \n",
      "4        47875ef41f97647fd5dc6aaa5e0542d2  c4e25642a283fa59f7d6513f0c839c47   \n",
      "...                                   ...                               ...   \n",
      "7190449  c11f442b127f9bb0a71801a29eefca3d  204e8bb73c87854c7a6bae57e8e6b85e   \n",
      "7190450  4e35ff62b4fd0e848f6ef873a8f570ba  970160a3782472acbce24225cb9aa50d   \n",
      "7190451  076632af8ab65e97c9da5a96809672df  e85e82d4832915a0b8eaa160d2a5fbb6   \n",
      "7190452  7204a2b23b4ef218a4c5faed12e1346a  1f375b3c3980407ee6bca0ffa5302ef5   \n",
      "7190453  7102153f1247804e9fc2293a7284d523  052e4bb0838b2ae996d6be084ccdbc88   \n",
      "\n",
      "                        time  time_slot  day_of_week        date  requests   \n",
      "0        2016-01-01 20:49:15        126            4  2016-01-01       384  \\\n",
      "1        2016-01-01 21:00:21        127            4  2016-01-01       430   \n",
      "2        2016-01-01 19:25:32        117            4  2016-01-01       413   \n",
      "3        2016-01-01 20:35:36        124            4  2016-01-01       397   \n",
      "4        2016-01-01 22:21:47        135            4  2016-01-01       296   \n",
      "...                      ...        ...          ...         ...       ...   \n",
      "7190449  2016-01-21 10:48:27         65            3  2016-01-21        19   \n",
      "7190450  2016-01-21 11:32:32         70            3  2016-01-21        10   \n",
      "7190451  2016-01-21 16:17:32         98            3  2016-01-21        12   \n",
      "7190452  2016-01-21 20:38:41        124            3  2016-01-21        13   \n",
      "7190453  2016-01-21 21:41:23        131            3  2016-01-21        12   \n",
      "\n",
      "         answers_x  answers_y  \n",
      "0                1        374  \n",
      "1                1        420  \n",
      "2                1        404  \n",
      "3                1        390  \n",
      "4                1        286  \n",
      "...            ...        ...  \n",
      "7190449          1         18  \n",
      "7190450          1         10  \n",
      "7190451          1         12  \n",
      "7190452          1         13  \n",
      "7190453          1         12  \n",
      "\n",
      "[7190454 rows x 12 columns]\n"
     ]
    }
   ],
   "source": [
    "orderData['temp'] = 1\n",
    "orderData['answers'] = orderData['temp'].where(orderData['driver_id'].notnull(), 0)\n",
    "orderData = orderData.drop(['temp'], axis=1)\n",
    "groupedMergedData = orderData.groupby(['start_region_id','time_slot','day_of_week','dest_region_id'])['answers'].agg('sum').reset_index()\n",
    "orderData = pd.merge(orderData,groupedMergedData, how='left' , on=['start_region_id','time_slot','day_of_week','dest_region_id'])\n",
    "print(orderData)"
   ]
  },
  {
   "cell_type": "code",
   "execution_count": 17,
   "metadata": {},
   "outputs": [],
   "source": [
    "orderData = orderData.drop([\"answers_x\"], axis=1)\n",
    "orderData = orderData.rename(columns={\"answers_y\": \"answers\"})"
   ]
  },
  {
   "cell_type": "code",
   "execution_count": 18,
   "metadata": {},
   "outputs": [
    {
     "name": "stdout",
     "output_type": "stream",
     "text": [
      "         dest_region_id                       region_hash  start_region_id   \n",
      "0                     1  90c5a34f06ac86aee0fd70e2adce7d8a                1  \\\n",
      "1                     1  90c5a34f06ac86aee0fd70e2adce7d8a                1   \n",
      "2                     1  90c5a34f06ac86aee0fd70e2adce7d8a                1   \n",
      "3                     1  90c5a34f06ac86aee0fd70e2adce7d8a                1   \n",
      "4                     1  90c5a34f06ac86aee0fd70e2adce7d8a                1   \n",
      "...                 ...                               ...              ...   \n",
      "7190449              66  1ecbb52d73c522f184a6fc53128b1ea1               66   \n",
      "7190450              66  1ecbb52d73c522f184a6fc53128b1ea1               66   \n",
      "7190451              66  1ecbb52d73c522f184a6fc53128b1ea1               66   \n",
      "7190452              66  1ecbb52d73c522f184a6fc53128b1ea1               66   \n",
      "7190453              66  1ecbb52d73c522f184a6fc53128b1ea1               66   \n",
      "\n",
      "                                 order_id                         driver_id   \n",
      "0        1654babc363bc6d0f5d01fc0bafedc1a  cc26812d679c9e55a6bf63eed315e989  \\\n",
      "1        ce86a6ae5eee7a2ea954323b6c01510b  360478560b1fd4b3eb757074c91ee709   \n",
      "2        b5e816c08e44565c7ed67a6f6e366708  0359fc335d238c6206703d1d7e3620c8   \n",
      "3        25ed10b13aaa36071deecab3aa374be3  c03944aff7444c27fd7b04cdd3e80af5   \n",
      "4        47875ef41f97647fd5dc6aaa5e0542d2  c4e25642a283fa59f7d6513f0c839c47   \n",
      "...                                   ...                               ...   \n",
      "7190449  c11f442b127f9bb0a71801a29eefca3d  204e8bb73c87854c7a6bae57e8e6b85e   \n",
      "7190450  4e35ff62b4fd0e848f6ef873a8f570ba  970160a3782472acbce24225cb9aa50d   \n",
      "7190451  076632af8ab65e97c9da5a96809672df  e85e82d4832915a0b8eaa160d2a5fbb6   \n",
      "7190452  7204a2b23b4ef218a4c5faed12e1346a  1f375b3c3980407ee6bca0ffa5302ef5   \n",
      "7190453  7102153f1247804e9fc2293a7284d523  052e4bb0838b2ae996d6be084ccdbc88   \n",
      "\n",
      "                        time  time_slot  day_of_week        date  requests   \n",
      "0        2016-01-01 20:49:15        126            4  2016-01-01       384  \\\n",
      "1        2016-01-01 21:00:21        127            4  2016-01-01       430   \n",
      "2        2016-01-01 19:25:32        117            4  2016-01-01       413   \n",
      "3        2016-01-01 20:35:36        124            4  2016-01-01       397   \n",
      "4        2016-01-01 22:21:47        135            4  2016-01-01       296   \n",
      "...                      ...        ...          ...         ...       ...   \n",
      "7190449  2016-01-21 10:48:27         65            3  2016-01-21        19   \n",
      "7190450  2016-01-21 11:32:32         70            3  2016-01-21        10   \n",
      "7190451  2016-01-21 16:17:32         98            3  2016-01-21        12   \n",
      "7190452  2016-01-21 20:38:41        124            3  2016-01-21        13   \n",
      "7190453  2016-01-21 21:41:23        131            3  2016-01-21        12   \n",
      "\n",
      "         answers  supply_demand  \n",
      "0            374             10  \n",
      "1            420             10  \n",
      "2            404              9  \n",
      "3            390              7  \n",
      "4            286             10  \n",
      "...          ...            ...  \n",
      "7190449       18              1  \n",
      "7190450       10              0  \n",
      "7190451       12              0  \n",
      "7190452       13              0  \n",
      "7190453       12              0  \n",
      "\n",
      "[7190454 rows x 12 columns]\n"
     ]
    }
   ],
   "source": [
    "orderData['supply_demand'] = orderData['requests'] - orderData['answers']\n",
    "print(orderData)"
   ]
  },
  {
   "cell_type": "code",
   "execution_count": 19,
   "metadata": {},
   "outputs": [
    {
     "name": "stdout",
     "output_type": "stream",
     "text": [
      "         dest_region_id  start_region_id  time_slot  day_of_week        date   \n",
      "0                     1                1        126            4  2016-01-01  \\\n",
      "1                     1                1        127            4  2016-01-01   \n",
      "2                     1                1        117            4  2016-01-01   \n",
      "3                     1                1        124            4  2016-01-01   \n",
      "4                     1                1        135            4  2016-01-01   \n",
      "...                 ...              ...        ...          ...         ...   \n",
      "7190449              66               66         65            3  2016-01-21   \n",
      "7190450              66               66         70            3  2016-01-21   \n",
      "7190451              66               66         98            3  2016-01-21   \n",
      "7190452              66               66        124            3  2016-01-21   \n",
      "7190453              66               66        131            3  2016-01-21   \n",
      "\n",
      "         supply_demand  \n",
      "0                   10  \n",
      "1                   10  \n",
      "2                    9  \n",
      "3                    7  \n",
      "4                   10  \n",
      "...                ...  \n",
      "7190449              1  \n",
      "7190450              0  \n",
      "7190451              0  \n",
      "7190452              0  \n",
      "7190453              0  \n",
      "\n",
      "[7190454 rows x 6 columns]\n"
     ]
    }
   ],
   "source": [
    "orderData = orderData.drop(['order_id','driver_id','requests','answers','region_hash','time'], axis=1)\n",
    "# orderData = orderData.drop_duplicates(subset=['start_region_id','time_slot','day_of_week','dest_region_id'], keep='first')\n",
    "print(orderData) # here"
   ]
  },
  {
   "cell_type": "code",
   "execution_count": 20,
   "metadata": {},
   "outputs": [],
   "source": [
    "def getPOICount(regionId):\n",
    "    for _, row in poiData.iterrows():\n",
    "        if row['region_id'] == regionId:\n",
    "            return row['poi_count']"
   ]
  },
  {
   "cell_type": "code",
   "execution_count": 21,
   "metadata": {},
   "outputs": [
    {
     "name": "stdout",
     "output_type": "stream",
     "text": [
      "         dest_region_id  start_region_id  time_slot  day_of_week        date   \n",
      "0                     1                1        126            4  2016-01-01  \\\n",
      "1                     1                1        127            4  2016-01-01   \n",
      "2                     1                1        117            4  2016-01-01   \n",
      "3                     1                1        124            4  2016-01-01   \n",
      "4                     1                1        135            4  2016-01-01   \n",
      "...                 ...              ...        ...          ...         ...   \n",
      "7190449              66               66         65            3  2016-01-21   \n",
      "7190450              66               66         70            3  2016-01-21   \n",
      "7190451              66               66         98            3  2016-01-21   \n",
      "7190452              66               66        124            3  2016-01-21   \n",
      "7190453              66               66        131            3  2016-01-21   \n",
      "\n",
      "         supply_demand  start_poi_count  dest_poi_count  \n",
      "0                   10           653376          653376  \n",
      "1                   10           653376          653376  \n",
      "2                    9           653376          653376  \n",
      "3                    7           653376          653376  \n",
      "4                   10           653376          653376  \n",
      "...                ...              ...             ...  \n",
      "7190449              1           138942          138942  \n",
      "7190450              0           138942          138942  \n",
      "7190451              0           138942          138942  \n",
      "7190452              0           138942          138942  \n",
      "7190453              0           138942          138942  \n",
      "\n",
      "[7190454 rows x 8 columns]\n"
     ]
    }
   ],
   "source": [
    "# merge poi data here\n",
    "# orderData['start_poi_count'] = orderData['region_id'].apply(getPOICount)\n",
    "# orderData['dest_poi_count'] = orderData['dest_region_id'].apply(getPOICount)\n",
    "\n",
    "orderData = pd.merge(orderData,poiData, how=\"inner\", left_on='start_region_id', right_on='region_id')\n",
    "orderData = orderData.rename(columns={\"poi_count\": \"start_poi_count\"})\n",
    "orderData = pd.merge(orderData,poiData, how=\"inner\", left_on='dest_region_id',right_on='region_id')\n",
    "orderData = orderData.rename(columns={\"poi_count\": \"dest_poi_count\"})\n",
    "orderData = orderData.drop(['region_id_x','region_id_y'], axis=1)\n",
    "print(orderData)"
   ]
  },
  {
   "cell_type": "code",
   "execution_count": 22,
   "metadata": {},
   "outputs": [],
   "source": [
    "# orderData['date'] = orderData['date'].apply(lambda x: str(x))\n",
    "# weatherData['date'] = weatherData['date'].apply(lambda x: str(x))\n",
    "# print(weatherData['date'][0]==orderData['date'][0])\n",
    "# print(orderData['date'][0])"
   ]
  },
  {
   "cell_type": "code",
   "execution_count": 23,
   "metadata": {},
   "outputs": [
    {
     "name": "stdout",
     "output_type": "stream",
     "text": [
      "          weather  temperature  PM2.5  time_slot        date  dest_region_id   \n",
      "0               1          4.0  177.0          1  2016-01-01               1  \\\n",
      "1               1          4.0  177.0          1  2016-01-01               1   \n",
      "2               1          4.0  177.0          1  2016-01-01               1   \n",
      "3               1          4.0  177.0          1  2016-01-01               1   \n",
      "4               1          4.0  177.0          1  2016-01-01               1   \n",
      "...           ...          ...    ...        ...         ...             ...   \n",
      "10274734        2          1.0   59.0        144  2016-01-21              65   \n",
      "10274735        2          1.0   59.0        144  2016-01-21              66   \n",
      "10274736        2          1.0   59.0        144  2016-01-21              66   \n",
      "10274737        2          1.0   59.0        144  2016-01-21              66   \n",
      "10274738        2          1.0   59.0        144  2016-01-21              66   \n",
      "\n",
      "          start_region_id  day_of_week  supply_demand  start_poi_count   \n",
      "0                       1            4              8           653376  \\\n",
      "1                       1            4              8           653376   \n",
      "2                       1            4              8           653376   \n",
      "3                       1            4              8           653376   \n",
      "4                       1            4              8           653376   \n",
      "...                   ...          ...            ...              ...   \n",
      "10274734               12            3              0           878555   \n",
      "10274735               66            3              0           138942   \n",
      "10274736               66            3              0           138942   \n",
      "10274737               66            3              0           138942   \n",
      "10274738               66            3              0           138942   \n",
      "\n",
      "          dest_poi_count  \n",
      "0                 653376  \n",
      "1                 653376  \n",
      "2                 653376  \n",
      "3                 653376  \n",
      "4                 653376  \n",
      "...                  ...  \n",
      "10274734           91217  \n",
      "10274735          138942  \n",
      "10274736          138942  \n",
      "10274737          138942  \n",
      "10274738          138942  \n",
      "\n",
      "[10274739 rows x 11 columns]\n"
     ]
    }
   ],
   "source": [
    "# merge weather data here\n",
    "orderData = pd.merge(weatherData,orderData, how=\"inner\", on=['date','time_slot'])\n",
    "print(orderData)"
   ]
  },
  {
   "cell_type": "code",
   "execution_count": 24,
   "metadata": {},
   "outputs": [
    {
     "name": "stdout",
     "output_type": "stream",
     "text": [
      "        start_region_id  time_slot  day_of_week  dest_region_id   \n",
      "0                     1          1            0               1  \\\n",
      "1                     1          1            0               1   \n",
      "2                     1          1            0               1   \n",
      "3                     1          1            0               8   \n",
      "4                     1          1            0               8   \n",
      "...                 ...        ...          ...             ...   \n",
      "905605               66        144            5              66   \n",
      "905606               66        144            5              66   \n",
      "905607               66        144            5              66   \n",
      "905608               66        144            6              66   \n",
      "905609               66        144            6              66   \n",
      "\n",
      "        start_poi_count  dest_poi_count  weather  temperature  PM2.5   \n",
      "0                653376          653376        2         13.0  187.0  \\\n",
      "1                653376          653376        3          3.0   88.0   \n",
      "2                653376          653376        4          8.0  121.0   \n",
      "3                653376         1518402        2         13.0  187.0   \n",
      "4                653376         1518402        3          3.0   88.0   \n",
      "...                 ...             ...      ...          ...    ...   \n",
      "905605           138942          138942        3          7.0  185.0   \n",
      "905606           138942          138942        4          7.0  105.0   \n",
      "905607           138942          138942        4         10.0  151.0   \n",
      "905608           138942          138942        2         13.0  187.0   \n",
      "905609           138942          138942        3          3.0   88.0   \n",
      "\n",
      "        supply_demand  \n",
      "0                 8.0  \n",
      "1                 8.0  \n",
      "2                 8.0  \n",
      "3                 0.0  \n",
      "4                 0.0  \n",
      "...               ...  \n",
      "905605            1.0  \n",
      "905606            1.0  \n",
      "905607            1.0  \n",
      "905608            0.0  \n",
      "905609            0.0  \n",
      "\n",
      "[905610 rows x 10 columns]\n"
     ]
    }
   ],
   "source": [
    "# m = orderData.drop_duplicates(subset=['start_region_id','time_slot','day_of_week','dest_region_id','start_poi_count','dest_poi_count','weather','temperature','PM2.5'],keep='first')\n",
    "m = orderData.copy()\n",
    "m = m.groupby(['start_region_id','time_slot','day_of_week','dest_region_id','start_poi_count','dest_poi_count','weather','temperature','PM2.5'])['supply_demand'].agg('mean').reset_index()\n",
    "m = m.drop_duplicates(subset=['start_region_id','time_slot','day_of_week','dest_region_id','start_poi_count','dest_poi_count','weather','temperature','PM2.5'],keep='first')\n",
    "print(m)"
   ]
  },
  {
   "attachments": {},
   "cell_type": "markdown",
   "metadata": {},
   "source": [
    "<h1 style=\"background-color:green\">Train Model</h1>"
   ]
  },
  {
   "cell_type": "code",
   "execution_count": 25,
   "metadata": {},
   "outputs": [
    {
     "name": "stdout",
     "output_type": "stream",
     "text": [
      "Note all results here are on training data\n",
      "Score for Polynomial Resgression is: 0.04828753762151705\n",
      "Score for Decision Tree Resgression is: 0.9778572335603084\n",
      "Score for Random Forest Resgression is: 0.20720683174054866\n"
     ]
    }
   ],
   "source": [
    "# Apply model here\n",
    "from sklearn.ensemble import GradientBoostingRegressor\n",
    "\n",
    "print(\"Note all results here are on training data\")\n",
    "\n",
    "X = m[['start_region_id','time_slot','day_of_week','dest_region_id','start_poi_count','dest_poi_count','weather','temperature','PM2.5']]\n",
    "Y = m['supply_demand']\n",
    "\n",
    "Xtrain, Xtest, Ytrain, Ytest = train_test_split(X,Y, test_size=0.001, random_state=30)\n",
    "# Linear regression\n",
    "AImodelLinear = LinearRegression()\n",
    "AImodelLinear.fit(Xtrain,Ytrain)\n",
    "print(f\"Score for Polynomial Regression is: {AImodelLinear.score(Xtest,Ytest)}\")\n",
    "\n",
    "# DecisionTreeRegressor\n",
    "AImodelDecision = DecisionTreeRegressor(max_depth=200)\n",
    "AImodelDecision.fit(Xtrain,Ytrain)\n",
    "print(f\"Score for Decision Tree Regression is: {AImodelDecision.score(Xtest,Ytest)}\")\n",
    "\n",
    "# RandomForestRegressor\n",
    "AImodelForest = RandomForestRegressor(n_estimators=100, max_depth=5, random_state=30)\n",
    "AImodelForest.fit(Xtrain,Ytrain)\n",
    "print(f\"Score for Random Forest Regression is: {AImodelForest.score(Xtest,Ytest)}\")\n",
    "\n",
    "# gradientBoostingRegressor\n",
    "# Xtrain, Xtest, Ytrain, Ytest = train_test_split(X, Y, test_size=0.1, random_state=42)\n",
    "# AImodel = GradientBoostingRegressor(n_estimators=100, max_depth=10, learning_rate=1)\n",
    "# AImodel.fit(Xtrain,Ytrain)\n"
   ]
  },
  {
   "cell_type": "code",
   "execution_count": 33,
   "metadata": {},
   "outputs": [
    {
     "data": {
      "image/png": "[encoded data removed]",
      "text/plain": [
       "<Figure size 640x480 with 1 Axes>"
      ]
     },
     "metadata": {},
     "output_type": "display_data"
    },
    {
     "name": "stdout",
     "output_type": "stream",
     "text": [
      "Best model is: DecisionTree with score: 0.9778572335603084\n"
     ]
    }
   ],
   "source": [
    "# plot score of each model on bar chart\n",
    "def plotScore(modelNameList,models):\n",
    "    modelscoresList = [x.score(Xtest,Ytest) for x in models]\n",
    "    plt.bar(modelNameList, modelscoresList,color=['red','green','blue'],label=modelNameList)\n",
    "    plt.title(\"Comparison of models on Training Data\\nR^2 score\")\n",
    "    plt.xlabel(\"Model Tested on Training Data\")\n",
    "    plt.ylabel(\"R^2 score on Test part of Training data\")\n",
    "    plt.legend()\n",
    "    plt.show()\n",
    "    maxScore = max(modelscoresList)\n",
    "    modelIndexWithMaxScore = modelscoresList.index(maxScore)\n",
    "    print(f\"Best model is: {modelNameList[modelIndexWithMaxScore]} with score: {maxScore}\")\n",
    "\n",
    "plotScore([\"Linear\",\"DecisionTree\",\"RandomForest\"],[AImodelLinear,AImodelDecision,AImodelForest])"
   ]
  },
  {
   "attachments": {},
   "cell_type": "markdown",
   "metadata": {},
   "source": [
    "<h3>Considering R^2 scores and training time we have selected Decision Tree Regression for our model</h3>"
   ]
  },
  {
   "cell_type": "code",
   "execution_count": 34,
   "metadata": {},
   "outputs": [],
   "source": [
    "# make rolling window function\n",
    "from sklearn.metrics import mean_absolute_error\n",
    "\n",
    "\n",
    "def rollTheWindow(data,windowSize,AImodel,PrintResults=False):\n",
    "    datasetLength = len(data)\n",
    "    listOfPredictions = []\n",
    "    numberOfWindows = datasetLength//windowSize\n",
    "    index = 0\n",
    "    lastWindow = False\n",
    "    for i in range(numberOfWindows):\n",
    "        rollingWindow = []\n",
    "        lowerLimit = index\n",
    "        upperLimit = index+windowSize\n",
    "        if upperLimit > datasetLength:\n",
    "            upperLimit = datasetLength-1\n",
    "        if lowerLimit >= upperLimit:\n",
    "            break\n",
    "        rollingWindow.append(data[lowerLimit:upperLimit])\n",
    "        rollingWindow = pd.concat(rollingWindow)\n",
    "        X_WINDOW_INPUT = rollingWindow[['start_region_id','time_slot','day_of_week','dest_region_id','start_poi_count','dest_poi_count','weather','temperature','PM2.5']]\n",
    "        Y_WINDOW_OUTPUT = rollingWindow['supply_demand']\n",
    "        currentPrediction = AImodel.predict(X_WINDOW_INPUT)\n",
    "        meanSqError = mean_squared_error(Y_WINDOW_OUTPUT, currentPrediction)\n",
    "        meanAbError = mean_absolute_error(Y_WINDOW_OUTPUT, currentPrediction)\n",
    "        if PrintResults:\n",
    "            print(f\"Prediction for window [{lowerLimit},{upperLimit}] MSE={meanSqError} MAE={meanAbError}\")\n",
    "        predictionTuple = (lowerLimit,upperLimit,currentPrediction,meanSqError,Y_WINDOW_OUTPUT,meanAbError)\n",
    "        listOfPredictions.append(predictionTuple)\n",
    "        index = upperLimit + 1\n",
    "        if index >= datasetLength-1 and lastWindow == False:\n",
    "            lastWindow = True\n",
    "            index = datasetLength-1\n",
    "        elif index >= datasetLength-1 and lastWindow == True:\n",
    "            break\n",
    "    maxSqError= max(listOfPredictions, key=lambda item: item[3])\n",
    "    minSqEror = min(listOfPredictions, key=lambda item: item[3])\n",
    "    maxAbError= max(listOfPredictions, key=lambda item: item[5])\n",
    "    minAbEror = min(listOfPredictions, key=lambda item: item[5])\n",
    "    print(f\"Max MSE={maxSqError[3]} MAE={maxAbError[5]}\")\n",
    "    print(f\"Min MSE={minSqEror[3]} MAE={minAbEror[5]}\")\n",
    "    print(\"Average MSE \",np.mean([x[3] for x in listOfPredictions]))\n",
    "    print(\"Average MAE \",np.mean([x[5] for x in listOfPredictions]))\n",
    "    return listOfPredictions,maxSqError,minSqEror,maxAbError,minAbEror"
   ]
  },
  {
   "cell_type": "code",
   "execution_count": 37,
   "metadata": {},
   "outputs": [
    {
     "name": "stdout",
     "output_type": "stream",
     "text": [
      "Max MSE=2337.164 MAE=18.688\n",
      "Min MSE=0.0 MAE=0.0\n",
      "Average MSE  1.145273171914724\n",
      "Average MAE  0.022841023838737592\n"
     ]
    },
    {
     "data": {
      "image/png": "[encoded data removed]",
      "text/plain": [
       "<Figure size 640x480 with 1 Axes>"
      ]
     },
     "metadata": {},
     "output_type": "display_data"
    },
    {
     "data": {
      "image/png": "[encoded data removed]",
      "text/plain": [
       "<Figure size 640x480 with 1 Axes>"
      ]
     },
     "metadata": {},
     "output_type": "display_data"
    }
   ],
   "source": [
    "def plotMSE(listOfPredictions):\n",
    "    MSElist =[x[3] for x in listOfPredictions] \n",
    "    plt.plot(MSElist,label=\"MSE\")\n",
    "    plt.title(\"Rolling window scores\\nMean Squared Error\")\n",
    "    plt.xlabel(\"Window Number\")\n",
    "    plt.ylabel(\"Mean Squared Error\")\n",
    "    plt.legend()\n",
    "    plt.show()\n",
    "    return\n",
    "\n",
    "def plotMAE(listOfPredictions):\n",
    "    MAElist =[x[5] for x in listOfPredictions] \n",
    "    plt.plot(MAElist,label=\"MAE\")\n",
    "    plt.title(\"Rolling window scores\\nMean Absolute Error\")\n",
    "    plt.xlabel(\"Window Number\")\n",
    "    plt.ylabel(\"Mean Absolute Error\")\n",
    "    plt.legend()\n",
    "    plt.show()\n",
    "    return\n",
    "\n",
    "def plotRollingScores(listOfPredictions):\n",
    "    plotMSE(listOfPredictions)\n",
    "    plotMAE(listOfPredictions)\n",
    "    return\n",
    "    \n",
    "windowResult = rollTheWindow(orderData,1000,AImodelDecision)\n",
    "plotRollingScores(windowResult[0])"
   ]
  },
  {
   "cell_type": "markdown",
   "metadata": {},
   "source": [
    "<h1>Model Optimization</h1>"
   ]
  },
  {
   "cell_type": "code",
   "execution_count": null,
   "metadata": {},
   "outputs": [],
   "source": [
    "# optimize model here using grid search"
   ]
  },
  {
   "attachments": {},
   "cell_type": "markdown",
   "metadata": {},
   "source": [
    "<h1 style=\"background-color:blue\">Read Test Data</h1>"
   ]
  },
  {
   "cell_type": "code",
   "execution_count": 31,
   "metadata": {},
   "outputs": [
    {
     "name": "stdout",
     "output_type": "stream",
     "text": [
      "                        region_hash  region_id\n",
      "0  90c5a34f06ac86aee0fd70e2adce7d8a          1\n",
      "1  f2c8c4bb99e6377d21de71275afd6cd2          2\n",
      "2  58c7a4888306d8ff3a641d1c0feccbe3          3\n",
      "3  b26a240205c852804ff8758628c0a86a          4\n",
      "4  4b9e4cf2fbdc8281b8a1f9f12b80ce4d          5\n"
     ]
    }
   ],
   "source": [
    "# read test data\n",
    "# read region Data\n",
    "regionTestData = pd.read_csv('./test_set/cluster_map/cluster_map', sep='\\t', names=['region_hash', 'region_id'],dtype={'region_hash': 'str', 'region_id': 'int'})\n",
    "print(regionTestData.head())\n",
    "#regionData.to_csv('regionData.csv',index=False)"
   ]
  },
  {
   "cell_type": "code",
   "execution_count": 32,
   "metadata": {},
   "outputs": [
    {
     "name": "stdout",
     "output_type": "stream",
     "text": [
      "5 files read\n",
      "printing order data\n",
      "                           order_id                         driver_id   \n",
      "0  a903b5f7f65f1dc7f4ee94fec74673be  dce1e90fc91ed39a7b04a22d02910a7d  \\\n",
      "1  b7c838beaf12a2132776a1f00e016038  1f39eba5ce330f20c95177826a122e12   \n",
      "2  0e0d3c93298ed59281352e34c6f1ec5a  8e4e2bc0342b3c55edea2723f6613e36   \n",
      "3  1f6d0d7f68f216c4333969d6152a0a8b  5a33393e516673c8e9a065915667a30f   \n",
      "4  bcf6050d9f5b270f8beb3ff80b01b435  f0232b8e45abc5ca92ca0f90fa811e7c   \n",
      "\n",
      "                  start_region_hash                  dest_region_hash   \n",
      "0  d4ec2125aff74eded207d2d915ef682f  d4ec2125aff74eded207d2d915ef682f  \\\n",
      "1  2407d482f0ffa22a947068f2551fe62c  2407d482f0ffa22a947068f2551fe62c   \n",
      "2  b26a240205c852804ff8758628c0a86a  3a43dcdff3c0b66b1acb1644ff055f9d   \n",
      "3  4725c39a5e5f4c188d382da3910b3f3f  4725c39a5e5f4c188d382da3910b3f3f   \n",
      "4  dd8d3b9665536d6e05b29c2648c0e69a  a5609739c6b5c2719a3752327c5e33a7   \n",
      "\n",
      "                  time  \n",
      "0  2016-01-23 07:20:52  \n",
      "1  2016-01-23 13:08:17  \n",
      "2  2016-01-23 15:20:07  \n",
      "3  2016-01-23 17:09:38  \n",
      "4  2016-01-23 19:01:31  \n"
     ]
    }
   ],
   "source": [
    "# read order data\n",
    "dataTypes = {'order_id':'str', 'driver_id':'str','start_region_hash':'str', 'dest_region_hash':'str' ,'time':'str'}\n",
    "orderDataPath = './test_set/order_data/'\n",
    "orderTestData = readMultipleData(orderDataPath,'test_order', ['order_id', 'driver_id', 'start_region_hash','dest_region_hash','time'], dataTypes,delimiter2=\",\")\n",
    "print(\"printing order data\")\n",
    "print(orderTestData.head())"
   ]
  },
  {
   "cell_type": "code",
   "execution_count": 33,
   "metadata": {},
   "outputs": [
    {
     "name": "stdout",
     "output_type": "stream",
     "text": [
      "5 files read\n",
      "printing weather data\n",
      "                  time  weather  temperature  PM2.5\n",
      "0  2016-01-23 07:01:12        4          1.0   94.0\n",
      "1  2016-01-23 11:14:04        3         -1.0  107.0\n",
      "2  2016-01-23 13:16:44        3         -1.0   56.0\n",
      "3  2016-01-23 15:02:02        3          0.0   48.0\n",
      "4  2016-01-23 15:16:39        3          0.0   48.0\n"
     ]
    }
   ],
   "source": [
    "# read weather data\n",
    "dataTypes={'time':'str', 'weather':'int', 'temperature':'double', 'PM2.5':'double'}\n",
    "weatherTestDataPath = './test_set/weather_data/'\n",
    "weatherTestData = readMultipleData(weatherTestDataPath,'weather_data', ['time', 'weather', 'temperature', 'PM2.5'], dataTypes)\n",
    "print(\"printing weather data\")\n",
    "print(weatherTestData.head())"
   ]
  },
  {
   "cell_type": "code",
   "execution_count": 34,
   "metadata": {},
   "outputs": [
    {
     "name": "stdout",
     "output_type": "stream",
     "text": [
      "   weather  temperature  PM2.5  time_slot        date\n",
      "0        4          1.0   94.0         43  2016-01-23\n",
      "1        3         -1.0  107.0         68  2016-01-23\n",
      "2        3         -1.0   56.0         80  2016-01-23\n",
      "3        3          0.0   48.0         91  2016-01-23\n",
      "4        3          0.0   48.0         92  2016-01-23\n"
     ]
    }
   ],
   "source": [
    "#pre processing weather Test Data based on weather timeSlot \n",
    "weatherTestData['time_slot'] = weatherTestData['time'].apply(calculateTimeSlot,printValue=False)\n",
    "weatherTestData['date'] = weatherTestData['time'].apply(extractDate)\n",
    "# weatherData['day_of_week'] = weatherData['time'].apply(extractDayOfWeek)\n",
    "weatherTestData = weatherTestData.drop(['time'], axis=1)\n",
    "print(weatherTestData.head())"
   ]
  },
  {
   "cell_type": "code",
   "execution_count": 35,
   "metadata": {},
   "outputs": [
    {
     "name": "stdout",
     "output_type": "stream",
     "text": [
      "Step 1 done\n",
      "Step 2 done\n",
      "Step 3 done\n",
      "Step 4 done\n",
      "Step 5 done\n",
      "Step 6 done\n",
      "                      region_hash_x  dest_region_id   \n",
      "0  90c5a34f06ac86aee0fd70e2adce7d8a               1  \\\n",
      "1  90c5a34f06ac86aee0fd70e2adce7d8a               1   \n",
      "2  90c5a34f06ac86aee0fd70e2adce7d8a               1   \n",
      "3  90c5a34f06ac86aee0fd70e2adce7d8a               1   \n",
      "4  90c5a34f06ac86aee0fd70e2adce7d8a               1   \n",
      "\n",
      "                      region_hash_y  start_region_id   \n",
      "0  90c5a34f06ac86aee0fd70e2adce7d8a                1  \\\n",
      "1  90c5a34f06ac86aee0fd70e2adce7d8a                1   \n",
      "2  90c5a34f06ac86aee0fd70e2adce7d8a                1   \n",
      "3  90c5a34f06ac86aee0fd70e2adce7d8a                1   \n",
      "4  90c5a34f06ac86aee0fd70e2adce7d8a                1   \n",
      "\n",
      "                           order_id                         driver_id   \n",
      "0  31bcca3b90b4d971697156b63900d514  172b54135139345fb9d24d0b23635387  \\\n",
      "1  cca7aca7134cffb46957d59897dcdbbc  773dd49e4148d807b099b42372fd5ac7   \n",
      "2  85cbab6eaea4b6bf1bc2cd7ce6701a93  75eb96caaa6bacb30b810996d655dd54   \n",
      "3  50f3588c595eca21e6be6182d521decc  c7bddad06fdf4fd7bb77c3007118d215   \n",
      "4  3c751c264452c4d73e90dd6066566e94  54402bda533bb92ec3d697c361ca683d   \n",
      "\n",
      "                  time  time_slot  day_of_week        date time_part  \n",
      "0  2016-01-23 19:09:39        116            5  2016-01-23  19:09:39  \n",
      "1  2016-01-23 21:03:43        127            5  2016-01-23  21:03:43  \n",
      "2  2016-01-23 07:08:10         43            5  2016-01-23  07:08:10  \n",
      "3  2016-01-23 13:19:20         81            5  2016-01-23  13:19:20  \n",
      "4  2016-01-23 15:25:06         93            5  2016-01-23  15:25:06  \n"
     ]
    }
   ],
   "source": [
    "orderTestData = pd.merge(regionTestData,orderTestData, how='inner', right_on='start_region_hash', left_on='region_hash')\n",
    "print(\"Step 1 done\")\n",
    "orderTestData = orderTestData.rename(columns={'region_id': 'start_region_id'})\n",
    "orderTestData = pd.merge(regionTestData,orderTestData, how='inner', right_on='dest_region_hash', left_on='region_hash')\n",
    "orderTestData = orderTestData.rename(columns={'region_id': 'dest_region_id'})\n",
    "print(\"Step 2 done\")\n",
    "orderTestData['time_slot'] = orderTestData['time'].apply(calculateTimeSlot,printValue=False)\n",
    "print(\"Step 3 done\")\n",
    "orderTestData['day_of_week'] = orderTestData['time'].apply(extractDayOfWeek)\n",
    "print(\"Step 4 done\")\n",
    "orderTestData['date'] = orderTestData['time'].apply(extractDate)\n",
    "print(\"Step 5 done\")\n",
    "orderTestData = orderTestData.drop(['dest_region_hash','start_region_hash'], axis=1)\n",
    "print(\"Step 6 done\")\n",
    "orderTestData['time_part'] = orderTestData['time'].apply(extractTime)\n",
    "print(orderTestData.head())"
   ]
  },
  {
   "cell_type": "code",
   "execution_count": 36,
   "metadata": {},
   "outputs": [
    {
     "name": "stdout",
     "output_type": "stream",
     "text": [
      "   region_id  poi_count\n",
      "0          1     653376\n",
      "1          2     343537\n",
      "2          3      31125\n",
      "3          4     187829\n",
      "4          5      27888\n"
     ]
    }
   ],
   "source": [
    "# read POI Data\n",
    "poiDataStr = {\n",
    "    'region_hash':[],\n",
    "    'poi_class':[]\n",
    "}\n",
    "with open('./test_set/poi_data/poi_data','r') as fileToRead:\n",
    "    for line in fileToRead:\n",
    "        line = line.strip()\n",
    "        columns = line.split('\\t')\n",
    "        poiDataStr['region_hash'].append(columns[0])\n",
    "        remData = columns[1:]\n",
    "        poiDataStr['poi_class'].append(remData)\n",
    "        \n",
    "poiTestData = pd.DataFrame(poiDataStr,columns=['region_hash','poi_class'])\n",
    "poiTestData['poi_count'] = poiTestData['poi_class'].apply(extractNumberOfPOI)\n",
    "poiTestData = pd.merge(regionTestData,poiTestData, how='inner', on='region_hash')\n",
    "poiTestData = poiTestData.drop(['region_hash'], axis=1)\n",
    "poiTestData = poiTestData.drop(['poi_class'], axis=1)\n",
    "print(poiTestData.head())"
   ]
  },
  {
   "cell_type": "code",
   "execution_count": 37,
   "metadata": {},
   "outputs": [
    {
     "name": "stdout",
     "output_type": "stream",
     "text": [
      "                      region_hash_x  dest_region_id   \n",
      "0  90c5a34f06ac86aee0fd70e2adce7d8a               1  \\\n",
      "1  90c5a34f06ac86aee0fd70e2adce7d8a               1   \n",
      "2  90c5a34f06ac86aee0fd70e2adce7d8a               1   \n",
      "3  90c5a34f06ac86aee0fd70e2adce7d8a               1   \n",
      "4  90c5a34f06ac86aee0fd70e2adce7d8a               1   \n",
      "\n",
      "                      region_hash_y  start_region_id   \n",
      "0  90c5a34f06ac86aee0fd70e2adce7d8a                1  \\\n",
      "1  90c5a34f06ac86aee0fd70e2adce7d8a                1   \n",
      "2  90c5a34f06ac86aee0fd70e2adce7d8a                1   \n",
      "3  90c5a34f06ac86aee0fd70e2adce7d8a                1   \n",
      "4  90c5a34f06ac86aee0fd70e2adce7d8a                1   \n",
      "\n",
      "                           order_id                         driver_id   \n",
      "0  31bcca3b90b4d971697156b63900d514  172b54135139345fb9d24d0b23635387  \\\n",
      "1  cca7aca7134cffb46957d59897dcdbbc  773dd49e4148d807b099b42372fd5ac7   \n",
      "2  85cbab6eaea4b6bf1bc2cd7ce6701a93  75eb96caaa6bacb30b810996d655dd54   \n",
      "3  50f3588c595eca21e6be6182d521decc  c7bddad06fdf4fd7bb77c3007118d215   \n",
      "4  3c751c264452c4d73e90dd6066566e94  54402bda533bb92ec3d697c361ca683d   \n",
      "\n",
      "                  time  time_slot  day_of_week        date time_part   \n",
      "0  2016-01-23 19:09:39        116            5  2016-01-23  19:09:39  \\\n",
      "1  2016-01-23 21:03:43        127            5  2016-01-23  21:03:43   \n",
      "2  2016-01-23 07:08:10         43            5  2016-01-23  07:08:10   \n",
      "3  2016-01-23 13:19:20         81            5  2016-01-23  13:19:20   \n",
      "4  2016-01-23 15:25:06         93            5  2016-01-23  15:25:06   \n",
      "\n",
      "   requests_x  requests_y  \n",
      "0           1         130  \n",
      "1           1         160  \n",
      "2           1          34  \n",
      "3           1         111  \n",
      "4           1         115  \n"
     ]
    }
   ],
   "source": [
    "# print(mergedDataCSV)\n",
    "orderTestData['requests'] = 1\n",
    "# print(orderData.head())\n",
    "groupedTestMergedData = orderTestData.groupby(['start_region_id','time_slot','day_of_week','dest_region_id'])['requests'].agg('sum').reset_index()\n",
    "# groupedMergedData = groupedMergedData.drop(['date','region_hash','order_id','driver_id','time'], axis=1)\n",
    "orderTestData = pd.merge(orderTestData,groupedTestMergedData, how='left' , on=['start_region_id','time_slot','day_of_week','dest_region_id'])\n",
    "print(orderTestData.head())"
   ]
  },
  {
   "cell_type": "code",
   "execution_count": 38,
   "metadata": {},
   "outputs": [
    {
     "name": "stdout",
     "output_type": "stream",
     "text": [
      "   dest_region_id                       region_hash  start_region_id   \n",
      "0               1  90c5a34f06ac86aee0fd70e2adce7d8a                1  \\\n",
      "1               1  90c5a34f06ac86aee0fd70e2adce7d8a                1   \n",
      "2               1  90c5a34f06ac86aee0fd70e2adce7d8a                1   \n",
      "3               1  90c5a34f06ac86aee0fd70e2adce7d8a                1   \n",
      "4               1  90c5a34f06ac86aee0fd70e2adce7d8a                1   \n",
      "\n",
      "                           order_id                         driver_id   \n",
      "0  31bcca3b90b4d971697156b63900d514  172b54135139345fb9d24d0b23635387  \\\n",
      "1  cca7aca7134cffb46957d59897dcdbbc  773dd49e4148d807b099b42372fd5ac7   \n",
      "2  85cbab6eaea4b6bf1bc2cd7ce6701a93  75eb96caaa6bacb30b810996d655dd54   \n",
      "3  50f3588c595eca21e6be6182d521decc  c7bddad06fdf4fd7bb77c3007118d215   \n",
      "4  3c751c264452c4d73e90dd6066566e94  54402bda533bb92ec3d697c361ca683d   \n",
      "\n",
      "                  time  time_slot  day_of_week        date time_part  requests  \n",
      "0  2016-01-23 19:09:39        116            5  2016-01-23  19:09:39       130  \n",
      "1  2016-01-23 21:03:43        127            5  2016-01-23  21:03:43       160  \n",
      "2  2016-01-23 07:08:10         43            5  2016-01-23  07:08:10        34  \n",
      "3  2016-01-23 13:19:20         81            5  2016-01-23  13:19:20       111  \n",
      "4  2016-01-23 15:25:06         93            5  2016-01-23  15:25:06       115  \n"
     ]
    }
   ],
   "source": [
    "orderTestData = orderTestData.drop([\"requests_x\"], axis=1)\n",
    "orderTestData = orderTestData.drop([\"region_hash_x\"], axis=1)\n",
    "orderTestData = orderTestData.rename(columns={\"region_hash_y\": \"region_hash\"})\n",
    "orderTestData = orderTestData.rename(columns={\"requests_y\": \"requests\"})\n",
    "print(orderTestData.head())"
   ]
  },
  {
   "cell_type": "code",
   "execution_count": 39,
   "metadata": {},
   "outputs": [
    {
     "name": "stdout",
     "output_type": "stream",
     "text": [
      "        dest_region_id                       region_hash  start_region_id   \n",
      "0                    1  90c5a34f06ac86aee0fd70e2adce7d8a                1  \\\n",
      "1                    1  90c5a34f06ac86aee0fd70e2adce7d8a                1   \n",
      "2                    1  90c5a34f06ac86aee0fd70e2adce7d8a                1   \n",
      "3                    1  90c5a34f06ac86aee0fd70e2adce7d8a                1   \n",
      "4                    1  90c5a34f06ac86aee0fd70e2adce7d8a                1   \n",
      "...                ...                               ...              ...   \n",
      "467906              66  1ecbb52d73c522f184a6fc53128b1ea1               66   \n",
      "467907              66  1ecbb52d73c522f184a6fc53128b1ea1               66   \n",
      "467908              66  1ecbb52d73c522f184a6fc53128b1ea1               66   \n",
      "467909              66  1ecbb52d73c522f184a6fc53128b1ea1               66   \n",
      "467910              66  1ecbb52d73c522f184a6fc53128b1ea1               66   \n",
      "\n",
      "                                order_id                         driver_id   \n",
      "0       31bcca3b90b4d971697156b63900d514  172b54135139345fb9d24d0b23635387  \\\n",
      "1       cca7aca7134cffb46957d59897dcdbbc  773dd49e4148d807b099b42372fd5ac7   \n",
      "2       85cbab6eaea4b6bf1bc2cd7ce6701a93  75eb96caaa6bacb30b810996d655dd54   \n",
      "3       50f3588c595eca21e6be6182d521decc  c7bddad06fdf4fd7bb77c3007118d215   \n",
      "4       3c751c264452c4d73e90dd6066566e94  54402bda533bb92ec3d697c361ca683d   \n",
      "...                                  ...                               ...   \n",
      "467906  a560357c0e25980c0828e42960c9283e  139c3202e4c4c836484f6e194ec60a7b   \n",
      "467907  8c656ae6c49dfad608be6d9b0dcc07d3  f3b8bf00f1b1a7d5182949843cd2b6a0   \n",
      "467908  0c9c35a4d186a0eb58710eb324bcf96b  d837d851b3c4c61c0f34fa7017f7b24b   \n",
      "467909  13474df57eba6d3219a0b53b45e29bd6  11dcbd6026d0a51829a7f207a1810d1e   \n",
      "467910  0649da2b829621094c8dd92a59cb523e  547f99290af5c227b5a6e7301b882d59   \n",
      "\n",
      "                       time  time_slot  day_of_week        date time_part   \n",
      "0       2016-01-23 19:09:39        116            5  2016-01-23  19:09:39  \\\n",
      "1       2016-01-23 21:03:43        127            5  2016-01-23  21:03:43   \n",
      "2       2016-01-23 07:08:10         43            5  2016-01-23  07:08:10   \n",
      "3       2016-01-23 13:19:20         81            5  2016-01-23  13:19:20   \n",
      "4       2016-01-23 15:25:06         93            5  2016-01-23  15:25:06   \n",
      "...                     ...        ...          ...         ...       ...   \n",
      "467906  2016-01-31 11:22:45         69            6  2016-01-31  11:22:45   \n",
      "467907  2016-01-31 17:16:56        104            6  2016-01-31  17:16:56   \n",
      "467908  2016-01-31 17:06:01        103            6  2016-01-31  17:06:01   \n",
      "467909  2016-01-31 09:22:35         57            6  2016-01-31  09:22:35   \n",
      "467910  2016-01-31 15:17:59         92            6  2016-01-31  15:17:59   \n",
      "\n",
      "        requests  answers_x  answers_y  \n",
      "0            130          1        130  \n",
      "1            160          1        160  \n",
      "2             34          1         34  \n",
      "3            111          1        111  \n",
      "4            115          1        115  \n",
      "...          ...        ...        ...  \n",
      "467906         8          1          8  \n",
      "467907        11          1         11  \n",
      "467908        15          1         15  \n",
      "467909         3          1          3  \n",
      "467910         6          1          6  \n",
      "\n",
      "[467911 rows x 13 columns]\n"
     ]
    }
   ],
   "source": [
    "orderTestData['temp'] = 1\n",
    "orderTestData['answers'] = orderTestData['temp'].where(orderTestData['driver_id'].notnull(), 0)\n",
    "orderTestData = orderTestData.drop(['temp'], axis=1)\n",
    "groupedTestMergedData = orderTestData.groupby(['start_region_id','time_slot','day_of_week','dest_region_id'])['answers'].agg('sum').reset_index()\n",
    "orderTestData = pd.merge(orderTestData,groupedTestMergedData, how='left' , on=['start_region_id','time_slot','day_of_week','dest_region_id'])\n",
    "print(orderTestData)"
   ]
  },
  {
   "cell_type": "code",
   "execution_count": 40,
   "metadata": {},
   "outputs": [],
   "source": [
    "orderTestData = orderTestData.drop([\"answers_x\"], axis=1)\n",
    "orderTestData = orderTestData.rename(columns={\"answers_y\": \"answers\"})\n",
    "# orderTestData.to_csv('mergedOrderData.csv',index=False)"
   ]
  },
  {
   "cell_type": "code",
   "execution_count": 41,
   "metadata": {},
   "outputs": [
    {
     "name": "stdout",
     "output_type": "stream",
     "text": [
      "        dest_region_id                       region_hash  start_region_id   \n",
      "0                    1  90c5a34f06ac86aee0fd70e2adce7d8a                1  \\\n",
      "1                    1  90c5a34f06ac86aee0fd70e2adce7d8a                1   \n",
      "2                    1  90c5a34f06ac86aee0fd70e2adce7d8a                1   \n",
      "3                    1  90c5a34f06ac86aee0fd70e2adce7d8a                1   \n",
      "4                    1  90c5a34f06ac86aee0fd70e2adce7d8a                1   \n",
      "...                ...                               ...              ...   \n",
      "467906              66  1ecbb52d73c522f184a6fc53128b1ea1               66   \n",
      "467907              66  1ecbb52d73c522f184a6fc53128b1ea1               66   \n",
      "467908              66  1ecbb52d73c522f184a6fc53128b1ea1               66   \n",
      "467909              66  1ecbb52d73c522f184a6fc53128b1ea1               66   \n",
      "467910              66  1ecbb52d73c522f184a6fc53128b1ea1               66   \n",
      "\n",
      "                                order_id                         driver_id   \n",
      "0       31bcca3b90b4d971697156b63900d514  172b54135139345fb9d24d0b23635387  \\\n",
      "1       cca7aca7134cffb46957d59897dcdbbc  773dd49e4148d807b099b42372fd5ac7   \n",
      "2       85cbab6eaea4b6bf1bc2cd7ce6701a93  75eb96caaa6bacb30b810996d655dd54   \n",
      "3       50f3588c595eca21e6be6182d521decc  c7bddad06fdf4fd7bb77c3007118d215   \n",
      "4       3c751c264452c4d73e90dd6066566e94  54402bda533bb92ec3d697c361ca683d   \n",
      "...                                  ...                               ...   \n",
      "467906  a560357c0e25980c0828e42960c9283e  139c3202e4c4c836484f6e194ec60a7b   \n",
      "467907  8c656ae6c49dfad608be6d9b0dcc07d3  f3b8bf00f1b1a7d5182949843cd2b6a0   \n",
      "467908  0c9c35a4d186a0eb58710eb324bcf96b  d837d851b3c4c61c0f34fa7017f7b24b   \n",
      "467909  13474df57eba6d3219a0b53b45e29bd6  11dcbd6026d0a51829a7f207a1810d1e   \n",
      "467910  0649da2b829621094c8dd92a59cb523e  547f99290af5c227b5a6e7301b882d59   \n",
      "\n",
      "                       time  time_slot  day_of_week        date time_part   \n",
      "0       2016-01-23 19:09:39        116            5  2016-01-23  19:09:39  \\\n",
      "1       2016-01-23 21:03:43        127            5  2016-01-23  21:03:43   \n",
      "2       2016-01-23 07:08:10         43            5  2016-01-23  07:08:10   \n",
      "3       2016-01-23 13:19:20         81            5  2016-01-23  13:19:20   \n",
      "4       2016-01-23 15:25:06         93            5  2016-01-23  15:25:06   \n",
      "...                     ...        ...          ...         ...       ...   \n",
      "467906  2016-01-31 11:22:45         69            6  2016-01-31  11:22:45   \n",
      "467907  2016-01-31 17:16:56        104            6  2016-01-31  17:16:56   \n",
      "467908  2016-01-31 17:06:01        103            6  2016-01-31  17:06:01   \n",
      "467909  2016-01-31 09:22:35         57            6  2016-01-31  09:22:35   \n",
      "467910  2016-01-31 15:17:59         92            6  2016-01-31  15:17:59   \n",
      "\n",
      "        requests  answers  supply_demand  \n",
      "0            130      130            130  \n",
      "1            160      160            160  \n",
      "2             34       34             34  \n",
      "3            111      111            111  \n",
      "4            115      115            115  \n",
      "...          ...      ...            ...  \n",
      "467906         8        8              8  \n",
      "467907        11       11             11  \n",
      "467908        15       15             15  \n",
      "467909         3        3              3  \n",
      "467910         6        6              6  \n",
      "\n",
      "[467911 rows x 13 columns]\n"
     ]
    }
   ],
   "source": [
    "# orderTestData['supply_demand'] = orderTestData['requests'] - orderTestData['answers']\n",
    "orderTestData['supply_demand'] = orderTestData['requests']\n",
    "print(orderTestData)"
   ]
  },
  {
   "cell_type": "code",
   "execution_count": 42,
   "metadata": {},
   "outputs": [
    {
     "name": "stdout",
     "output_type": "stream",
     "text": [
      "        dest_region_id  start_region_id  time_slot  day_of_week        date   \n",
      "0                    1                1        116            5  2016-01-23  \\\n",
      "1                    1                1        127            5  2016-01-23   \n",
      "2                    1                1         43            5  2016-01-23   \n",
      "3                    1                1         81            5  2016-01-23   \n",
      "4                    1                1         93            5  2016-01-23   \n",
      "...                ...              ...        ...          ...         ...   \n",
      "467906              66               66         69            6  2016-01-31   \n",
      "467907              66               66        104            6  2016-01-31   \n",
      "467908              66               66        103            6  2016-01-31   \n",
      "467909              66               66         57            6  2016-01-31   \n",
      "467910              66               66         92            6  2016-01-31   \n",
      "\n",
      "       time_part  supply_demand  \n",
      "0       19:09:39            130  \n",
      "1       21:03:43            160  \n",
      "2       07:08:10             34  \n",
      "3       13:19:20            111  \n",
      "4       15:25:06            115  \n",
      "...          ...            ...  \n",
      "467906  11:22:45              8  \n",
      "467907  17:16:56             11  \n",
      "467908  17:06:01             15  \n",
      "467909  09:22:35              3  \n",
      "467910  15:17:59              6  \n",
      "\n",
      "[467911 rows x 7 columns]\n"
     ]
    }
   ],
   "source": [
    "orderTestData = orderTestData.drop(['order_id','driver_id','requests','answers','region_hash','time'], axis=1)\n",
    "print(orderTestData)"
   ]
  },
  {
   "cell_type": "code",
   "execution_count": 43,
   "metadata": {},
   "outputs": [
    {
     "name": "stdout",
     "output_type": "stream",
     "text": [
      "        dest_region_id  start_region_id  time_slot  day_of_week        date   \n",
      "0                    1                1        116            5  2016-01-23  \\\n",
      "1                    1                1        127            5  2016-01-23   \n",
      "2                    1                1         43            5  2016-01-23   \n",
      "3                    1                1         81            5  2016-01-23   \n",
      "4                    1                1         93            5  2016-01-23   \n",
      "...                ...              ...        ...          ...         ...   \n",
      "467906              63               63         79            2  2016-01-27   \n",
      "467907              63               63         56            2  2016-01-27   \n",
      "467908              63               63         68            4  2016-01-29   \n",
      "467909              63               63         68            4  2016-01-29   \n",
      "467910              63               63         57            4  2016-01-29   \n",
      "\n",
      "       time_part  supply_demand  start_poi_count  dest_poi_count  \n",
      "0       19:09:39            130           653376          653376  \n",
      "1       21:03:43            160           653376          653376  \n",
      "2       07:08:10             34           653376          653376  \n",
      "3       13:19:20            111           653376          653376  \n",
      "4       15:25:06            115           653376          653376  \n",
      "...          ...            ...              ...             ...  \n",
      "467906  13:03:25              1            73704           73704  \n",
      "467907  09:13:22              1            73704           73704  \n",
      "467908  11:13:46              2            73704           73704  \n",
      "467909  11:13:46              2            73704           73704  \n",
      "467910  09:24:56              1            73704           73704  \n",
      "\n",
      "[467911 rows x 9 columns]\n"
     ]
    }
   ],
   "source": [
    "orderTestData = pd.merge(orderTestData,poiData, how=\"inner\", left_on='start_region_id', right_on='region_id')\n",
    "orderTestData = orderTestData.rename(columns={\"poi_count\": \"start_poi_count\"})\n",
    "orderTestData = pd.merge(orderTestData,poiData, how=\"inner\", left_on='dest_region_id',right_on='region_id')\n",
    "orderTestData = orderTestData.rename(columns={\"poi_count\": \"dest_poi_count\"})\n",
    "orderTestData = orderTestData.drop(['region_id_x','region_id_y'], axis=1)\n",
    "print(orderTestData)"
   ]
  },
  {
   "cell_type": "code",
   "execution_count": 44,
   "metadata": {},
   "outputs": [
    {
     "name": "stdout",
     "output_type": "stream",
     "text": [
      "        weather  temperature  PM2.5  time_slot        date  dest_region_id   \n",
      "0             4          1.0   94.0         43  2016-01-23               1  \\\n",
      "1             4          1.0   94.0         43  2016-01-23               1   \n",
      "2             4          1.0   94.0         43  2016-01-23               1   \n",
      "3             4          1.0   94.0         43  2016-01-23               1   \n",
      "4             4          1.0   94.0         43  2016-01-23               1   \n",
      "...         ...          ...    ...        ...         ...             ...   \n",
      "288877        8          1.0   69.0        141  2016-01-31              49   \n",
      "288878        8          1.0   69.0        141  2016-01-31              64   \n",
      "288879        8          1.0   69.0        141  2016-01-31              64   \n",
      "288880        8          1.0   69.0        141  2016-01-31              32   \n",
      "288881        8          1.0   69.0        141  2016-01-31              17   \n",
      "\n",
      "        start_region_id  day_of_week time_part  supply_demand   \n",
      "0                     1            5  07:08:10             34  \\\n",
      "1                     1            5  07:05:52             34   \n",
      "2                     1            5  07:08:27             34   \n",
      "3                     1            5  07:07:10             34   \n",
      "4                     1            5  07:04:18             34   \n",
      "...                 ...          ...       ...            ...   \n",
      "288877                9            6  23:21:00              1   \n",
      "288878               64            6  23:22:13              2   \n",
      "288879               64            6  23:20:07              2   \n",
      "288880               27            6  23:23:24              1   \n",
      "288881               13            6  23:19:13              1   \n",
      "\n",
      "        start_poi_count  dest_poi_count  \n",
      "0                653376          653376  \n",
      "1                653376          653376  \n",
      "2                653376          653376  \n",
      "3                653376          653376  \n",
      "4                653376          653376  \n",
      "...                 ...             ...  \n",
      "288877           183762           49219  \n",
      "288878           211982          211982  \n",
      "288879           211982          211982  \n",
      "288880           537591           64325  \n",
      "288881           104248          121844  \n",
      "\n",
      "[288882 rows x 12 columns]\n"
     ]
    }
   ],
   "source": [
    "orderTestData = pd.merge(weatherTestData,orderTestData, how=\"inner\", on=['date','time_slot'])\n",
    "print(orderTestData)\n"
   ]
  },
  {
   "cell_type": "code",
   "execution_count": 45,
   "metadata": {},
   "outputs": [
    {
     "name": "stdout",
     "output_type": "stream",
     "text": [
      "       start_region_id  time_slot  day_of_week  dest_region_id   \n",
      "0                    1         43            2               1  \\\n",
      "1                    1         43            2               8   \n",
      "2                    1         43            2              21   \n",
      "3                    1         43            2              36   \n",
      "4                    1         43            2              42   \n",
      "...                ...        ...          ...             ...   \n",
      "34127               66        141            0              66   \n",
      "34128               66        141            2              66   \n",
      "34129               66        141            4              66   \n",
      "34130               66        141            5              66   \n",
      "34131               66        141            6              66   \n",
      "\n",
      "       start_poi_count  dest_poi_count  weather  temperature  PM2.5   \n",
      "0               653376          653376        3          3.0   76.0  \\\n",
      "1               653376         1518402        3          3.0   76.0   \n",
      "2               653376          285105        3          3.0   76.0   \n",
      "3               653376           43824        3          3.0   76.0   \n",
      "4               653376          448449        3          3.0   76.0   \n",
      "...                ...             ...      ...          ...    ...   \n",
      "34127           138942          138942        1         -1.0   72.0   \n",
      "34128           138942          138942        2          4.0  111.0   \n",
      "34129           138942          138942        3          4.0   61.0   \n",
      "34130           138942          138942        2         -4.0   56.0   \n",
      "34131           138942          138942        8          1.0   69.0   \n",
      "\n",
      "       supply_demand  \n",
      "0               48.0  \n",
      "1                1.0  \n",
      "2               11.0  \n",
      "3                5.0  \n",
      "4                4.0  \n",
      "...              ...  \n",
      "34127            2.0  \n",
      "34128            3.0  \n",
      "34129            5.0  \n",
      "34130            1.0  \n",
      "34131            3.0  \n",
      "\n",
      "[34132 rows x 10 columns]\n"
     ]
    }
   ],
   "source": [
    "# mTest = orderTestData.drop_duplicates(keep='first')\n",
    "mTest = orderTestData.copy()\n",
    "mTest = mTest.groupby(['start_region_id','time_slot','day_of_week','dest_region_id','start_poi_count','dest_poi_count','weather','temperature','PM2.5'])['supply_demand'].agg('mean').reset_index()\n",
    "# mTest = mTest.drop_duplicates(subset=['start_region_id','time_slot','day_of_week','dest_region_id','start_poi_count','dest_poi_count','weather','temperature','PM2.5'],keep='first')\n",
    "print(mTest)"
   ]
  },
  {
   "attachments": {},
   "cell_type": "markdown",
   "metadata": {},
   "source": [
    "<h1 style=\"background-color:skyblue; color:black\">Prediction on Test Data</h1>"
   ]
  },
  {
   "cell_type": "code",
   "execution_count": 46,
   "metadata": {},
   "outputs": [],
   "source": [
    "# XTest = mTest[['region_id','time_slot','day_of_week','weather','poi_count']]\n",
    "# YTest = mTest['supply_demand']\n",
    "# print(\"accuracy: \",AImodel.score(XTest,YTest))\n",
    "# print(YTest)"
   ]
  },
  {
   "cell_type": "code",
   "execution_count": 47,
   "metadata": {},
   "outputs": [
    {
     "name": "stdout",
     "output_type": "stream",
     "text": [
      "Prediction for window [0,100] MSE=750.23 MAE=11.13\n",
      "Prediction for window [101,201] MSE=745.3 MAE=11.46\n",
      "Prediction for window [202,302] MSE=688.61 MAE=10.73\n",
      "Prediction for window [303,403] MSE=942.17 MAE=13.11\n",
      "Prediction for window [404,504] MSE=1618.55 MAE=16.57\n",
      "Prediction for window [505,605] MSE=1365.45 MAE=15.15\n",
      "Prediction for window [606,706] MSE=1146.05 MAE=14.79\n",
      "Prediction for window [707,807] MSE=334.44 MAE=8.3\n",
      "Prediction for window [808,908] MSE=115.22 MAE=6.18\n",
      "Prediction for window [909,1009] MSE=133.71 MAE=9.71\n",
      "Prediction for window [1010,1110] MSE=21.6 MAE=3.08\n",
      "Prediction for window [1111,1211] MSE=3.96 MAE=1.38\n",
      "Prediction for window [1212,1312] MSE=46.88 MAE=4.16\n",
      "Prediction for window [1313,1413] MSE=10.59 MAE=2.45\n",
      "Prediction for window [1414,1514] MSE=13.21 MAE=2.47\n",
      "Prediction for window [1515,1615] MSE=17.09 MAE=2.63\n",
      "Prediction for window [1616,1716] MSE=44.95 MAE=3.75\n",
      "Prediction for window [1717,1817] MSE=65.25 MAE=4.65\n",
      "Prediction for window [1818,1918] MSE=39.87 MAE=3.67\n",
      "Prediction for window [1919,2019] MSE=55.47 MAE=4.43\n",
      "Prediction for window [2020,2120] MSE=73.69 MAE=5.43\n",
      "Prediction for window [2121,2221] MSE=11.02 MAE=2.48\n",
      "Prediction for window [2222,2322] MSE=7.03 MAE=1.69\n",
      "Prediction for window [2323,2423] MSE=6.51 MAE=1.77\n",
      "Prediction for window [2424,2524] MSE=14.23 MAE=2.15\n",
      "Prediction for window [2525,2625] MSE=10.79 MAE=2.17\n",
      "Prediction for window [2626,2726] MSE=8.55 MAE=1.97\n",
      "Prediction for window [2727,2827] MSE=18.13 MAE=2.11\n",
      "Prediction for window [2828,2928] MSE=220.6 MAE=7.0\n",
      "Prediction for window [2929,3029] MSE=99.58 MAE=6.02\n",
      "Prediction for window [3030,3130] MSE=141.33 MAE=6.53\n",
      "Prediction for window [3131,3231] MSE=113.72 MAE=5.68\n",
      "Prediction for window [3232,3332] MSE=59.98 MAE=4.52\n",
      "Prediction for window [3333,3433] MSE=111.56 MAE=5.86\n",
      "Prediction for window [3434,3534] MSE=260.69 MAE=6.85\n",
      "Prediction for window [3535,3635] MSE=362.72 MAE=10.4\n",
      "Prediction for window [3636,3736] MSE=209.65 MAE=8.01\n",
      "Prediction for window [3737,3837] MSE=122.89 MAE=6.63\n",
      "Prediction for window [3838,3938] MSE=134.38 MAE=6.36\n",
      "Prediction for window [3939,4039] MSE=152.43 MAE=6.57\n",
      "Prediction for window [4040,4140] MSE=100.04 MAE=5.7\n",
      "Prediction for window [4141,4241] MSE=110.35 MAE=5.43\n",
      "Prediction for window [4242,4342] MSE=142.39 MAE=5.75\n",
      "Prediction for window [4343,4443] MSE=1623.78 MAE=18.52\n",
      "Prediction for window [4444,4544] MSE=239.24 MAE=8.08\n",
      "Prediction for window [4545,4645] MSE=208.31 MAE=7.95\n",
      "Prediction for window [4646,4746] MSE=359.14 MAE=9.42\n",
      "Prediction for window [4747,4847] MSE=207.41 MAE=7.75\n",
      "Prediction for window [4848,4948] MSE=196.11 MAE=7.71\n",
      "Prediction for window [4949,5049] MSE=351.62 MAE=8.84\n",
      "Prediction for window [5050,5150] MSE=532.49 MAE=10.09\n",
      "Prediction for window [5151,5251] MSE=556.85 MAE=10.69\n",
      "Prediction for window [5252,5352] MSE=533.22 MAE=12.48\n",
      "Prediction for window [5353,5453] MSE=666.6 MAE=12.96\n",
      "Prediction for window [5454,5554] MSE=383.34 MAE=10.54\n",
      "Prediction for window [5555,5655] MSE=667.39 MAE=12.71\n",
      "Prediction for window [5656,5756] MSE=415.12 MAE=10.32\n",
      "Prediction for window [5757,5857] MSE=177.34 MAE=7.88\n",
      "Prediction for window [5858,5958] MSE=106.4 MAE=5.9\n",
      "Prediction for window [5959,6059] MSE=13.24 MAE=2.36\n",
      "Prediction for window [6060,6160] MSE=17.07 MAE=2.39\n",
      "Prediction for window [6161,6261] MSE=17.57 MAE=2.51\n",
      "Prediction for window [6262,6362] MSE=56.66 MAE=3.62\n",
      "Prediction for window [6363,6463] MSE=37.01 MAE=3.53\n",
      "Prediction for window [6464,6564] MSE=40.13 MAE=3.89\n",
      "Prediction for window [6565,6665] MSE=22.75 MAE=2.85\n",
      "Prediction for window [6666,6766] MSE=2.82 MAE=1.3\n",
      "Prediction for window [6767,6867] MSE=8.07 MAE=1.85\n",
      "Prediction for window [6868,6968] MSE=27.77 MAE=3.45\n",
      "Prediction for window [6969,7069] MSE=20.79 MAE=3.09\n",
      "Prediction for window [7070,7170] MSE=31.38 MAE=3.76\n",
      "Prediction for window [7171,7271] MSE=22.39 MAE=3.35\n",
      "Prediction for window [7272,7372] MSE=10.5 MAE=2.42\n",
      "Prediction for window [7373,7473] MSE=101.57 MAE=4.61\n",
      "Prediction for window [7474,7574] MSE=326.72 MAE=8.52\n",
      "Prediction for window [7575,7675] MSE=286.7 MAE=7.86\n",
      "Prediction for window [7676,7776] MSE=251.34 MAE=7.52\n",
      "Prediction for window [7777,7877] MSE=416.76 MAE=8.7\n",
      "Prediction for window [7878,7978] MSE=826.64 MAE=12.78\n",
      "Prediction for window [7979,8079] MSE=396.42 MAE=9.08\n",
      "Prediction for window [8080,8180] MSE=406.77 MAE=9.51\n",
      "Prediction for window [8181,8281] MSE=265.52 MAE=8.1\n",
      "Prediction for window [8282,8382] MSE=152.63 MAE=6.45\n",
      "Prediction for window [8383,8483] MSE=74.93 MAE=4.55\n",
      "Prediction for window [8484,8584] MSE=11.73 MAE=2.57\n",
      "Prediction for window [8585,8685] MSE=17.57 MAE=2.71\n",
      "Prediction for window [8686,8786] MSE=8.83 MAE=2.25\n",
      "Prediction for window [8787,8887] MSE=132.48 MAE=5.72\n",
      "Prediction for window [8888,8988] MSE=119.0 MAE=6.76\n",
      "Prediction for window [8989,9089] MSE=76.68 MAE=5.58\n",
      "Prediction for window [9090,9190] MSE=76.7 MAE=4.92\n",
      "Prediction for window [9191,9291] MSE=44.84 MAE=3.94\n",
      "Prediction for window [9292,9392] MSE=86.47 MAE=5.75\n",
      "Prediction for window [9393,9493] MSE=70.49 MAE=4.71\n",
      "Prediction for window [9494,9594] MSE=65.74 MAE=5.1\n",
      "Prediction for window [9595,9695] MSE=41.67 MAE=4.21\n",
      "Prediction for window [9696,9796] MSE=28.45 MAE=3.67\n",
      "Prediction for window [9797,9897] MSE=10.31 MAE=2.27\n",
      "Prediction for window [9898,9998] MSE=5.19 MAE=1.57\n",
      "Prediction for window [9999,10099] MSE=3.17 MAE=1.33\n",
      "Prediction for window [10100,10200] MSE=5.15 MAE=1.77\n",
      "Prediction for window [10201,10301] MSE=5.56 MAE=1.7\n",
      "Prediction for window [10302,10402] MSE=3.76 MAE=1.64\n",
      "Prediction for window [10403,10503] MSE=4.14 MAE=1.54\n",
      "Prediction for window [10504,10604] MSE=2.84 MAE=1.34\n",
      "Prediction for window [10605,10705] MSE=2.59 MAE=1.35\n",
      "Prediction for window [10706,10806] MSE=3.37 MAE=1.29\n",
      "Prediction for window [10807,10907] MSE=45.01 MAE=4.59\n",
      "Prediction for window [10908,11008] MSE=34.4 MAE=4.14\n",
      "Prediction for window [11009,11109] MSE=35.47 MAE=4.29\n",
      "Prediction for window [11110,11210] MSE=75.27 MAE=5.37\n",
      "Prediction for window [11211,11311] MSE=122.38 MAE=6.86\n",
      "Prediction for window [11312,11412] MSE=58.2 MAE=5.06\n",
      "Prediction for window [11413,11513] MSE=71.71 MAE=5.53\n",
      "Prediction for window [11514,11614] MSE=21.68 MAE=3.22\n",
      "Prediction for window [11615,11715] MSE=493.63 MAE=8.05\n",
      "Prediction for window [11716,11816] MSE=279.83 MAE=6.91\n",
      "Prediction for window [11817,11917] MSE=102.76 MAE=5.88\n",
      "Prediction for window [11918,12018] MSE=103.86 MAE=5.78\n",
      "Prediction for window [12019,12119] MSE=69.92 MAE=5.04\n",
      "Prediction for window [12120,12220] MSE=306.43 MAE=9.93\n",
      "Prediction for window [12221,12321] MSE=401.61 MAE=11.25\n",
      "Prediction for window [12322,12422] MSE=413.81 MAE=10.95\n",
      "Prediction for window [12423,12523] MSE=347.65 MAE=10.73\n",
      "Prediction for window [12524,12624] MSE=114.1 MAE=6.4\n",
      "Prediction for window [12625,12725] MSE=53.29 MAE=4.55\n",
      "Prediction for window [12726,12826] MSE=155.77 MAE=7.41\n",
      "Prediction for window [12827,12927] MSE=129.45 MAE=7.29\n",
      "Prediction for window [12928,13028] MSE=260.0 MAE=9.66\n",
      "Prediction for window [13029,13129] MSE=169.94 MAE=7.96\n",
      "Prediction for window [13130,13230] MSE=24.99 MAE=3.17\n",
      "Prediction for window [13231,13331] MSE=31.72 MAE=3.26\n",
      "Prediction for window [13332,13432] MSE=47.18 MAE=3.46\n",
      "Prediction for window [13433,13533] MSE=79.99 MAE=4.95\n",
      "Prediction for window [13534,13634] MSE=27.01 MAE=3.49\n",
      "Prediction for window [13635,13735] MSE=79.33 MAE=4.59\n",
      "Prediction for window [13736,13836] MSE=904.86 MAE=12.62\n",
      "Prediction for window [13837,13937] MSE=564.06 MAE=11.48\n",
      "Prediction for window [13938,14038] MSE=842.82 MAE=14.14\n",
      "Prediction for window [14039,14139] MSE=414.59 MAE=9.91\n",
      "Prediction for window [14140,14240] MSE=262.58 MAE=7.82\n",
      "Prediction for window [14241,14341] MSE=201.14 MAE=6.6\n",
      "Prediction for window [14342,14442] MSE=240.6 MAE=7.16\n",
      "Prediction for window [14443,14543] MSE=473.81 MAE=9.35\n",
      "Prediction for window [14544,14644] MSE=672.4 MAE=10.48\n",
      "Prediction for window [14645,14745] MSE=599.37 MAE=10.19\n",
      "Prediction for window [14746,14846] MSE=735.89 MAE=12.11\n",
      "Prediction for window [14847,14947] MSE=557.94 MAE=10.82\n",
      "Prediction for window [14948,15048] MSE=653.83 MAE=11.29\n",
      "Prediction for window [15049,15149] MSE=629.54 MAE=12.24\n",
      "Prediction for window [15150,15250] MSE=170.03 MAE=6.95\n",
      "Prediction for window [15251,15351] MSE=186.11 MAE=6.77\n",
      "Prediction for window [15352,15452] MSE=72.54 MAE=5.46\n",
      "Prediction for window [15453,15553] MSE=173.28 MAE=5.98\n",
      "Prediction for window [15554,15654] MSE=33.15 MAE=3.59\n",
      "Prediction for window [15655,15755] MSE=45.36 MAE=4.22\n",
      "Prediction for window [15756,15856] MSE=27.9 MAE=3.44\n",
      "Prediction for window [15857,15957] MSE=47.57 MAE=4.21\n",
      "Prediction for window [15958,16058] MSE=71.53 MAE=5.03\n",
      "Prediction for window [16059,16159] MSE=92.39 MAE=5.41\n",
      "Prediction for window [16160,16260] MSE=92.53 MAE=4.99\n",
      "Prediction for window [16261,16361] MSE=79.57 MAE=4.85\n",
      "Prediction for window [16362,16462] MSE=33.76 MAE=3.28\n",
      "Prediction for window [16463,16563] MSE=17.04 MAE=2.36\n",
      "Prediction for window [16564,16664] MSE=34.66 MAE=3.32\n",
      "Prediction for window [16665,16765] MSE=60.42 MAE=4.06\n",
      "Prediction for window [16766,16866] MSE=58.16 MAE=3.66\n",
      "Prediction for window [16867,16967] MSE=146.83 MAE=5.49\n",
      "Prediction for window [16968,17068] MSE=113.71 MAE=5.29\n",
      "Prediction for window [17069,17169] MSE=51.95 MAE=4.07\n",
      "Prediction for window [17170,17270] MSE=30.75 MAE=3.11\n",
      "Prediction for window [17271,17371] MSE=70.11 MAE=3.37\n",
      "Prediction for window [17372,17472] MSE=18.48 MAE=2.9\n",
      "Prediction for window [17473,17573] MSE=11.24 MAE=2.2\n",
      "Prediction for window [17574,17674] MSE=22.65 MAE=3.35\n",
      "Prediction for window [17675,17775] MSE=102.78 MAE=5.08\n",
      "Prediction for window [17776,17876] MSE=145.2 MAE=6.0\n",
      "Prediction for window [17877,17977] MSE=20.11 MAE=2.81\n",
      "Prediction for window [17978,18078] MSE=16.75 MAE=2.13\n",
      "Prediction for window [18079,18179] MSE=226.0 MAE=7.64\n",
      "Prediction for window [18180,18280] MSE=329.85 MAE=9.15\n",
      "Prediction for window [18281,18381] MSE=590.84 MAE=10.12\n",
      "Prediction for window [18382,18482] MSE=449.47 MAE=9.59\n",
      "Prediction for window [18483,18583] MSE=235.5 MAE=7.5\n",
      "Prediction for window [18584,18684] MSE=127.72 MAE=6.12\n",
      "Prediction for window [18685,18785] MSE=1251.42 MAE=12.58\n",
      "Prediction for window [18786,18886] MSE=1157.61 MAE=12.99\n",
      "Prediction for window [18887,18987] MSE=291.65 MAE=9.67\n",
      "Prediction for window [18988,19088] MSE=540.06 MAE=13.0\n",
      "Prediction for window [19089,19189] MSE=236.85 MAE=8.99\n",
      "Prediction for window [19190,19290] MSE=437.03 MAE=11.09\n",
      "Prediction for window [19291,19391] MSE=656.01 MAE=11.71\n",
      "Prediction for window [19392,19492] MSE=604.72 MAE=12.9\n",
      "Prediction for window [19493,19593] MSE=680.54 MAE=13.58\n",
      "Prediction for window [19594,19694] MSE=786.9 MAE=14.62\n",
      "Prediction for window [19695,19795] MSE=768.01 MAE=13.35\n",
      "Prediction for window [19796,19896] MSE=114.61 MAE=6.45\n",
      "Prediction for window [19897,19997] MSE=59.27 MAE=4.13\n",
      "Prediction for window [19998,20098] MSE=12.57 MAE=2.37\n",
      "Prediction for window [20099,20199] MSE=8.92 MAE=2.04\n",
      "Prediction for window [20200,20300] MSE=8.51 MAE=1.99\n",
      "Prediction for window [20301,20401] MSE=7.78 MAE=2.02\n",
      "Prediction for window [20402,20502] MSE=5.89 MAE=1.77\n",
      "Prediction for window [20503,20603] MSE=2.14 MAE=1.16\n",
      "Prediction for window [20604,20704] MSE=4.4 MAE=1.58\n",
      "Prediction for window [20705,20805] MSE=7.46 MAE=2.02\n",
      "Prediction for window [20806,20906] MSE=6.19 MAE=1.85\n",
      "Prediction for window [20907,21007] MSE=3.46 MAE=1.36\n",
      "Prediction for window [21008,21108] MSE=4.25 MAE=1.65\n",
      "Prediction for window [21109,21209] MSE=2.25 MAE=1.17\n",
      "Prediction for window [21210,21310] MSE=3.63 MAE=1.51\n",
      "Prediction for window [21311,21411] MSE=5.49 MAE=1.79\n",
      "Prediction for window [21412,21512] MSE=2.9 MAE=1.4\n",
      "Prediction for window [21513,21613] MSE=3.64 MAE=1.36\n",
      "Prediction for window [21614,21714] MSE=2.27 MAE=1.19\n",
      "Prediction for window [21715,21815] MSE=18.6 MAE=2.14\n",
      "Prediction for window [21816,21916] MSE=11.33 MAE=2.03\n",
      "Prediction for window [21917,22017] MSE=4.24 MAE=1.56\n",
      "Prediction for window [22018,22118] MSE=9.67 MAE=2.43\n",
      "Prediction for window [22119,22219] MSE=13.58 MAE=2.74\n",
      "Prediction for window [22220,22320] MSE=11.32 MAE=1.98\n",
      "Prediction for window [22321,22421] MSE=25.72 MAE=2.98\n",
      "Prediction for window [22422,22522] MSE=50.36 MAE=4.06\n",
      "Prediction for window [22523,22623] MSE=32.39 MAE=3.43\n",
      "Prediction for window [22624,22724] MSE=421.21 MAE=8.31\n",
      "Prediction for window [22725,22825] MSE=291.91 MAE=8.49\n",
      "Prediction for window [22826,22926] MSE=72.92 MAE=5.06\n",
      "Prediction for window [22927,23027] MSE=100.15 MAE=5.21\n",
      "Prediction for window [23028,23128] MSE=45.25 MAE=3.83\n",
      "Prediction for window [23129,23229] MSE=60.58 MAE=4.64\n",
      "Prediction for window [23230,23330] MSE=218.13 MAE=7.73\n",
      "Prediction for window [23331,23431] MSE=269.02 MAE=8.36\n",
      "Prediction for window [23432,23532] MSE=254.9 MAE=9.7\n",
      "Prediction for window [23533,23633] MSE=196.93 MAE=8.63\n",
      "Prediction for window [23634,23734] MSE=275.78 MAE=9.38\n",
      "Prediction for window [23735,23835] MSE=122.95 MAE=6.25\n",
      "Prediction for window [23836,23936] MSE=49.76 MAE=4.68\n",
      "Prediction for window [23937,24037] MSE=16.27 MAE=2.83\n",
      "Prediction for window [24038,24138] MSE=5.66 MAE=1.72\n",
      "Prediction for window [24139,24239] MSE=3.13 MAE=1.43\n",
      "Prediction for window [24240,24340] MSE=4.47 MAE=1.73\n",
      "Prediction for window [24341,24441] MSE=2.65 MAE=1.35\n",
      "Prediction for window [24442,24542] MSE=2.44 MAE=1.28\n",
      "Prediction for window [24543,24643] MSE=1.79 MAE=1.11\n",
      "Prediction for window [24644,24744] MSE=2.77 MAE=1.29\n",
      "Prediction for window [24745,24845] MSE=2.63 MAE=1.19\n",
      "Prediction for window [24846,24946] MSE=4.11 MAE=1.63\n",
      "Prediction for window [24947,25047] MSE=3.93 MAE=1.45\n",
      "Prediction for window [25048,25148] MSE=11.2 MAE=1.94\n",
      "Prediction for window [25149,25249] MSE=8.27 MAE=2.01\n",
      "Prediction for window [25250,25350] MSE=7.61 MAE=2.03\n",
      "Prediction for window [25351,25451] MSE=34.94 MAE=3.6\n",
      "Prediction for window [25452,25552] MSE=71.8 MAE=4.7\n",
      "Prediction for window [25553,25653] MSE=70.99 MAE=4.67\n",
      "Prediction for window [25654,25754] MSE=77.54 MAE=5.2\n",
      "Prediction for window [25755,25855] MSE=76.41 MAE=4.85\n",
      "Prediction for window [25856,25956] MSE=151.55 MAE=5.93\n",
      "Prediction for window [25957,26057] MSE=99.7 MAE=5.12\n",
      "Prediction for window [26058,26158] MSE=117.15 MAE=5.95\n",
      "Prediction for window [26159,26259] MSE=52.68 MAE=4.22\n",
      "Prediction for window [26260,26360] MSE=20.46 MAE=2.34\n",
      "Prediction for window [26361,26461] MSE=2.81 MAE=1.29\n",
      "Prediction for window [26462,26562] MSE=4.12 MAE=1.46\n",
      "Prediction for window [26563,26663] MSE=13.13 MAE=2.47\n",
      "Prediction for window [26664,26764] MSE=326.65 MAE=8.35\n",
      "Prediction for window [26765,26865] MSE=84.23 MAE=5.97\n",
      "Prediction for window [26866,26966] MSE=91.62 MAE=5.0\n",
      "Prediction for window [26967,27067] MSE=81.59 MAE=5.53\n",
      "Prediction for window [27068,27168] MSE=54.95 MAE=4.25\n",
      "Prediction for window [27169,27269] MSE=281.36 MAE=8.62\n",
      "Prediction for window [27270,27370] MSE=311.1 MAE=9.74\n",
      "Prediction for window [27371,27471] MSE=212.46 MAE=8.0\n",
      "Prediction for window [27472,27572] MSE=336.42 MAE=9.02\n",
      "Prediction for window [27573,27673] MSE=190.34 MAE=6.7\n",
      "Prediction for window [27674,27774] MSE=57.02 MAE=4.56\n",
      "Prediction for window [27775,27875] MSE=3.95 MAE=1.49\n",
      "Prediction for window [27876,27976] MSE=3.03 MAE=1.35\n",
      "Prediction for window [27977,28077] MSE=2.44 MAE=1.26\n",
      "Prediction for window [28078,28178] MSE=1.91 MAE=1.21\n",
      "Prediction for window [28179,28279] MSE=426.33 MAE=9.45\n",
      "Prediction for window [28280,28380] MSE=441.27 MAE=9.67\n",
      "Prediction for window [28381,28481] MSE=396.43 MAE=9.29\n",
      "Prediction for window [28482,28582] MSE=691.12 MAE=11.46\n",
      "Prediction for window [28583,28683] MSE=726.98 MAE=12.14\n",
      "Prediction for window [28684,28784] MSE=205.35 MAE=6.57\n",
      "Prediction for window [28785,28885] MSE=328.49 MAE=8.39\n",
      "Prediction for window [28886,28986] MSE=412.8 MAE=9.48\n",
      "Prediction for window [28987,29087] MSE=322.95 MAE=9.31\n",
      "Prediction for window [29088,29188] MSE=373.08 MAE=8.88\n",
      "Prediction for window [29189,29289] MSE=391.89 MAE=9.73\n",
      "Prediction for window [29290,29390] MSE=394.25 MAE=9.43\n",
      "Prediction for window [29391,29491] MSE=170.85 MAE=6.53\n",
      "Prediction for window [29492,29592] MSE=225.24 MAE=7.14\n",
      "Prediction for window [29593,29693] MSE=46.05 MAE=4.09\n",
      "Prediction for window [29694,29794] MSE=49.26 MAE=4.02\n",
      "Prediction for window [29795,29895] MSE=2.32 MAE=1.18\n",
      "Prediction for window [29896,29996] MSE=3.29 MAE=1.43\n",
      "Prediction for window [29997,30097] MSE=182.22 MAE=6.98\n",
      "Prediction for window [30098,30198] MSE=1737.29 MAE=17.85\n",
      "Prediction for window [30199,30299] MSE=886.63 MAE=14.37\n",
      "Prediction for window [30300,30400] MSE=1418.5 MAE=15.06\n",
      "Prediction for window [30401,30501] MSE=2018.9 MAE=20.0\n",
      "Prediction for window [30502,30602] MSE=1726.51 MAE=17.59\n",
      "Prediction for window [30603,30703] MSE=1333.53 MAE=13.67\n",
      "Prediction for window [30704,30804] MSE=1405.85 MAE=13.67\n",
      "Prediction for window [30805,30905] MSE=424.99 MAE=10.57\n",
      "Prediction for window [30906,31006] MSE=819.5 MAE=9.72\n",
      "Prediction for window [31007,31107] MSE=536.02 MAE=10.62\n",
      "Prediction for window [31108,31208] MSE=1619.53 MAE=15.41\n",
      "Prediction for window [31209,31309] MSE=1446.54 MAE=16.02\n",
      "Prediction for window [31310,31410] MSE=1155.75 MAE=15.27\n",
      "Prediction for window [31411,31511] MSE=1481.22 MAE=15.88\n",
      "Prediction for window [31512,31612] MSE=653.98 MAE=11.9\n",
      "Prediction for window [31613,31713] MSE=844.66 MAE=12.66\n",
      "Prediction for window [31714,31814] MSE=489.46 MAE=11.02\n",
      "Prediction for window [31815,31915] MSE=482.01 MAE=10.51\n",
      "Prediction for window [31916,32016] MSE=651.3 MAE=10.88\n",
      "Prediction for window [32017,32117] MSE=347.05 MAE=8.99\n",
      "Prediction for window [32118,32218] MSE=21.28 MAE=2.02\n",
      "Prediction for window [32219,32319] MSE=11.46 MAE=2.1\n",
      "Prediction for window [32320,32420] MSE=3.2 MAE=1.46\n",
      "Prediction for window [32421,32521] MSE=6.77 MAE=1.83\n",
      "Prediction for window [32522,32622] MSE=11.84 MAE=2.34\n",
      "Prediction for window [32623,32723] MSE=4.26 MAE=1.56\n",
      "Prediction for window [32724,32824] MSE=24.87 MAE=3.77\n",
      "Prediction for window [32825,32925] MSE=3.54 MAE=1.48\n",
      "Prediction for window [32926,33026] MSE=5.09 MAE=1.71\n",
      "Prediction for window [33027,33127] MSE=13.86 MAE=2.74\n",
      "Prediction for window [33128,33228] MSE=57.31 MAE=6.23\n",
      "Prediction for window [33229,33329] MSE=6.48 MAE=1.92\n",
      "Prediction for window [33330,33430] MSE=1.93 MAE=1.15\n",
      "Prediction for window [33431,33531] MSE=2.57 MAE=1.21\n",
      "Prediction for window [33532,33632] MSE=1.59 MAE=1.07\n",
      "Prediction for window [33633,33733] MSE=1.64 MAE=0.98\n",
      "Prediction for window [33734,33834] MSE=3.11 MAE=1.11\n",
      "Prediction for window [33835,33935] MSE=36.46 MAE=4.88\n",
      "Prediction for window [33936,34036] MSE=2.37 MAE=1.23\n",
      "Prediction for window [34037,34131] MSE=49.265957446808514 MAE=5.819148936170213\n",
      "-------------------------------------------------------\n",
      "Max MSE=2018.9 MAE=20.0\n",
      "Min MSE=1.59 MAE=0.98\n"
     ]
    }
   ],
   "source": [
    "listOfPredictions =  rollTheWindow(mTest,100)\n",
    "maxSqError= max(listOfPredictions, key=lambda x: x[3])\n",
    "minSqEror = min(listOfPredictions, key=lambda x: x[3])\n",
    "maxAbError= max(listOfPredictions, key=lambda x: x[5])\n",
    "minAbEror = min(listOfPredictions, key=lambda x: x[5])\n",
    "print(\"-------------------------------------------------------\")\n",
    "print(f\"Max MSE={maxSqError[3]} MAE={maxAbError[5]}\")\n",
    "print(f\"Min MSE={minSqEror[3]} MAE={minAbEror[5]}\")\n",
    "# print(f\"Total MSE={} MAE={}\")"
   ]
  },
  {
   "cell_type": "code",
   "execution_count": 48,
   "metadata": {},
   "outputs": [
    {
     "name": "stdout",
     "output_type": "stream",
     "text": [
      "Mean of mean squared error for above predictions is:  234.11998803978344\n",
      "Min error:  1.59\n",
      "Max error:  2018.9\n"
     ]
    }
   ],
   "source": [
    "# print mean of mean squared error\n",
    "errors = [x[3] for x in listOfPredictions]\n",
    "print(\"Mean of mean squared error for above predictions is: \",np.mean(errors))\n",
    "print(\"Min error: \",np.min(errors))\n",
    "print(\"Max error: \",np.max(errors))"
   ]
  },
  {
   "cell_type": "code",
   "execution_count": 49,
   "metadata": {},
   "outputs": [
    {
     "name": "stdout",
     "output_type": "stream",
     "text": [
      "Accuracy of the model is:  0.5048113177900492\n"
     ]
    }
   ],
   "source": [
    "Xtest = mTest[['start_region_id','time_slot','day_of_week','dest_region_id','start_poi_count','dest_poi_count','weather','temperature','PM2.5']]\n",
    "Ytest = mTest['supply_demand']\n",
    "print(\"Accuracy of the model is: \",AImodel.score(Xtest,Ytest))"
   ]
  },
  {
   "attachments": {},
   "cell_type": "markdown",
   "metadata": {},
   "source": [
    "<h1 style=\"background-color:orange; color:black\">Plot actual gap and predicted gap against time</h1>"
   ]
  },
  {
   "cell_type": "code",
   "execution_count": 50,
   "metadata": {},
   "outputs": [
    {
     "data": {
      "text/plain": [
       "<matplotlib.legend.Legend at 0x1374bd028d0>"
      ]
     },
     "execution_count": 50,
     "metadata": {},
     "output_type": "execute_result"
    },
    {
     "data": {
      "image/png": "[encoded data removed]",
      "text/plain": [
       "<Figure size 640x480 with 1 Axes>"
      ]
     },
     "metadata": {},
     "output_type": "display_data"
    }
   ],
   "source": [
    "fXTest = mTest.copy()\n",
    "fYTest = fXTest['supply_demand']\n",
    "fXTest['predicted'] = AImodel.predict(fXTest[['start_region_id','time_slot','day_of_week','dest_region_id','start_poi_count','dest_poi_count','weather','temperature','PM2.5']])\n",
    "groupedfXTestSupply = fXTest.groupby(['time_slot'])['supply_demand'].agg('mean').reset_index()\n",
    "groupedfXTestPredicted = fXTest.groupby(['time_slot'])['predicted'].agg('mean').reset_index()\n",
    "\n",
    "plt.plot(groupedfXTestSupply['time_slot'],groupedfXTestSupply['supply_demand'],label='Actual',color='red')\n",
    "plt.plot(groupedfXTestPredicted['time_slot'],groupedfXTestPredicted['predicted'],label='Predicted',color='blue')\n",
    "plt.xlabel('Time Slot')\n",
    "plt.ylabel('Supply Demand Gap')\n",
    "plt.title('Supply Demand Gap Actual Mean vs Predicted Mean')\n",
    "plt.legend()"
   ]
  },
  {
   "attachments": {},
   "cell_type": "markdown",
   "metadata": {},
   "source": [
    "<h1>Actual Values and Mean Predicted Values against rows(index)</h1>"
   ]
  },
  {
   "cell_type": "code",
   "execution_count": 51,
   "metadata": {},
   "outputs": [
    {
     "data": {
      "image/png": "[encoded data removed]",
      "text/plain": [
       "<Figure size 640x480 with 1 Axes>"
      ]
     },
     "metadata": {},
     "output_type": "display_data"
    }
   ],
   "source": [
    "zXTest = mTest.copy()\n",
    "zYTest = zXTest['supply_demand']\n",
    "zXTest['predicted'] = AImodel.predict(zXTest[['start_region_id','time_slot','day_of_week','dest_region_id','start_poi_count','dest_poi_count','weather','temperature','PM2.5']])\n",
    "# plotting the actual values and the mean predicted values\n",
    "\n",
    "#groupedzXTestSupply = zXTest.groupby(['time_slot'])['supply_demand'].agg('mean').reset_index()\n",
    "groupedzXTestSupply = zXTest.groupby(['start_region_id','time_slot','day_of_week','dest_region_id','start_poi_count','dest_poi_count','weather','temperature','PM2.5'])['supply_demand'].agg('mean').reset_index()\n",
    "groupedzXTestPredicted = zXTest.groupby(['start_region_id','time_slot','day_of_week','dest_region_id','start_poi_count','dest_poi_count','weather','temperature','PM2.5'])['predicted'].agg('mean').reset_index()\n",
    "\n",
    "xRange = range(0,groupedzXTestSupply.shape[0])\n",
    "plt.plot(xRange,groupedzXTestSupply['supply_demand'],label='Actual',color='red',alpha=0.5,linewidth=1)\n",
    "plt.plot(xRange,groupedzXTestPredicted['predicted'],label='Predicted',color='blue',alpha=0.5,linewidth=1)\n",
    "plt.xlabel('Index')\n",
    "plt.ylabel('Mean Supply Demand Gap')\n",
    "plt.title('Supply Demand Gap Actual Mean vs Predicted Mean\\nAll features')\n",
    "plt.legend()\n",
    "plt.show()"
   ]
  },
  {
   "cell_type": "markdown",
   "metadata": {},
   "source": []
  }
 ],
 "metadata": {
  "kernelspec": {
   "display_name": "base",
   "language": "python",
   "name": "python3"
  },
  "language_info": {
   "codemirror_mode": {
    "name": "ipython",
    "version": 3
   },
   "file_extension": ".py",
   "mimetype": "text/x-python",
   "name": "python",
   "nbconvert_exporter": "python",
   "pygments_lexer": "ipython3",
   "version": "3.11.3"
  },
  "orig_nbformat": 4
 },
 "nbformat": 4,
 "nbformat_minor": 2
}
